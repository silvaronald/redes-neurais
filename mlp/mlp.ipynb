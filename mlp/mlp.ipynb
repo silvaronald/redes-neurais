{
  "nbformat": 4,
  "nbformat_minor": 0,
  "metadata": {
    "colab": {
      "provenance": []
    },
    "kernelspec": {
      "name": "python3",
      "display_name": "Python 3"
    },
    "language_info": {
      "name": "python"
    }
  },
  "cells": [
    {
      "cell_type": "code",
      "source": [
        "%pip install optuna"
      ],
      "metadata": {
        "colab": {
          "base_uri": "https://localhost:8080/"
        },
        "id": "bfRes-kUJT6b",
        "outputId": "8d3e57e9-b842-46b8-eab6-2f754e0bbedf"
      },
      "execution_count": 33,
      "outputs": [
        {
          "output_type": "stream",
          "name": "stdout",
          "text": [
            "Collecting optuna\n",
            "  Downloading optuna-3.6.1-py3-none-any.whl (380 kB)\n",
            "\u001b[2K     \u001b[90m━━━━━━━━━━━━━━━━━━━━━━━━━━━━━━━━━━━━━━━━\u001b[0m \u001b[32m380.1/380.1 kB\u001b[0m \u001b[31m5.7 MB/s\u001b[0m eta \u001b[36m0:00:00\u001b[0m\n",
            "\u001b[?25hCollecting alembic>=1.5.0 (from optuna)\n",
            "  Downloading alembic-1.13.2-py3-none-any.whl (232 kB)\n",
            "\u001b[2K     \u001b[90m━━━━━━━━━━━━━━━━━━━━━━━━━━━━━━━━━━━━━━━━\u001b[0m \u001b[32m233.0/233.0 kB\u001b[0m \u001b[31m8.7 MB/s\u001b[0m eta \u001b[36m0:00:00\u001b[0m\n",
            "\u001b[?25hCollecting colorlog (from optuna)\n",
            "  Downloading colorlog-6.8.2-py3-none-any.whl (11 kB)\n",
            "Requirement already satisfied: numpy in /usr/local/lib/python3.10/dist-packages (from optuna) (1.25.2)\n",
            "Requirement already satisfied: packaging>=20.0 in /usr/local/lib/python3.10/dist-packages (from optuna) (24.1)\n",
            "Requirement already satisfied: sqlalchemy>=1.3.0 in /usr/local/lib/python3.10/dist-packages (from optuna) (2.0.31)\n",
            "Requirement already satisfied: tqdm in /usr/local/lib/python3.10/dist-packages (from optuna) (4.66.4)\n",
            "Requirement already satisfied: PyYAML in /usr/local/lib/python3.10/dist-packages (from optuna) (6.0.1)\n",
            "Collecting Mako (from alembic>=1.5.0->optuna)\n",
            "  Downloading Mako-1.3.5-py3-none-any.whl (78 kB)\n",
            "\u001b[2K     \u001b[90m━━━━━━━━━━━━━━━━━━━━━━━━━━━━━━━━━━━━━━━━\u001b[0m \u001b[32m78.6/78.6 kB\u001b[0m \u001b[31m7.3 MB/s\u001b[0m eta \u001b[36m0:00:00\u001b[0m\n",
            "\u001b[?25hRequirement already satisfied: typing-extensions>=4 in /usr/local/lib/python3.10/dist-packages (from alembic>=1.5.0->optuna) (4.12.2)\n",
            "Requirement already satisfied: greenlet!=0.4.17 in /usr/local/lib/python3.10/dist-packages (from sqlalchemy>=1.3.0->optuna) (3.0.3)\n",
            "Requirement already satisfied: MarkupSafe>=0.9.2 in /usr/local/lib/python3.10/dist-packages (from Mako->alembic>=1.5.0->optuna) (2.1.5)\n",
            "Installing collected packages: Mako, colorlog, alembic, optuna\n",
            "Successfully installed Mako-1.3.5 alembic-1.13.2 colorlog-6.8.2 optuna-3.6.1\n"
          ]
        }
      ]
    },
    {
      "cell_type": "code",
      "execution_count": 34,
      "metadata": {
        "id": "tEP71Mw40dIo"
      },
      "outputs": [],
      "source": [
        "import pandas as pd\n",
        "from sklearn.model_selection import train_test_split\n",
        "import optuna\n",
        "from sklearn.neural_network import MLPClassifier\n",
        "from sklearn.ensemble import RandomForestClassifier\n",
        "from sklearn.metrics import accuracy_score\n",
        "from sklearn.utils import resample"
      ]
    },
    {
      "cell_type": "code",
      "source": [
        "train_df = pd.read_csv(\"train.csv\")\n",
        "val_df = pd.read_csv(\"validation.csv\")\n",
        "test_df = pd.read_csv(\"test.csv\")"
      ],
      "metadata": {
        "id": "WQVT1XOg1p7N"
      },
      "execution_count": 4,
      "outputs": []
    },
    {
      "cell_type": "code",
      "source": [
        "train_df.head()"
      ],
      "metadata": {
        "colab": {
          "base_uri": "https://localhost:8080/",
          "height": 307
        },
        "id": "-oMXjpkh2mDY",
        "outputId": "cafdf5a5-6190-4b8f-cdcf-64bcef1afa58"
      },
      "execution_count": 5,
      "outputs": [
        {
          "output_type": "execute_result",
          "data": {
            "text/plain": [
              "        Age  Class  Inflight wifi service  Departure/Arrival time convenient  \\\n",
              "0  0.089744    1.0                    0.8                                0.8   \n",
              "1  0.410256    1.0                    1.0                                1.0   \n",
              "2  0.230769    1.0                    0.4                                1.0   \n",
              "3  0.217949    0.5                    1.0                                0.0   \n",
              "4  0.512821    1.0                    0.2                                0.2   \n",
              "\n",
              "   Ease of Online booking  Gate location  Food and drink  Online boarding  \\\n",
              "0                     0.2            0.8             1.0              0.8   \n",
              "1                     1.0            1.0             0.8              0.8   \n",
              "2                     0.4            0.6             0.2              0.4   \n",
              "3                     1.0            0.6             0.4              1.0   \n",
              "4                     0.2            0.2             0.4              1.0   \n",
              "\n",
              "   Seat comfort  Inflight entertainment  ...  Arrival Delay in Minutes  \\\n",
              "0          1.00                     1.0  ...                  0.000000   \n",
              "1          0.75                     1.0  ...                  0.000000   \n",
              "2          0.00                     0.2  ...                  0.333333   \n",
              "3          0.25                     0.4  ...                  0.000000   \n",
              "4          0.75                     0.8  ...                  0.333333   \n",
              "\n",
              "   Departure Delay in Minutes  Flight Distance  Gender_Female  Gender_Male  \\\n",
              "0                         0.0              0.0            1.0          0.0   \n",
              "1                         0.0              0.0            0.0          1.0   \n",
              "2                         0.5              0.0            0.0          1.0   \n",
              "3                         0.0              0.0            1.0          0.0   \n",
              "4                         0.5              0.0            0.0          1.0   \n",
              "\n",
              "   Type of Travel_Business travel  Type of Travel_Personal Travel  \\\n",
              "0                             1.0                             0.0   \n",
              "1                             1.0                             0.0   \n",
              "2                             1.0                             0.0   \n",
              "3                             1.0                             0.0   \n",
              "4                             1.0                             0.0   \n",
              "\n",
              "   Customer Type_Loyal Customer  Customer Type_disloyal Customer  satisfaction  \n",
              "0                           1.0                              0.0             1  \n",
              "1                           1.0                              0.0             1  \n",
              "2                           0.0                              1.0             0  \n",
              "3                           0.0                              1.0             1  \n",
              "4                           1.0                              0.0             1  \n",
              "\n",
              "[5 rows x 26 columns]"
            ],
            "text/html": [
              "\n",
              "  <div id=\"df-19b0b479-910c-42ab-a700-f961c2af7bce\" class=\"colab-df-container\">\n",
              "    <div>\n",
              "<style scoped>\n",
              "    .dataframe tbody tr th:only-of-type {\n",
              "        vertical-align: middle;\n",
              "    }\n",
              "\n",
              "    .dataframe tbody tr th {\n",
              "        vertical-align: top;\n",
              "    }\n",
              "\n",
              "    .dataframe thead th {\n",
              "        text-align: right;\n",
              "    }\n",
              "</style>\n",
              "<table border=\"1\" class=\"dataframe\">\n",
              "  <thead>\n",
              "    <tr style=\"text-align: right;\">\n",
              "      <th></th>\n",
              "      <th>Age</th>\n",
              "      <th>Class</th>\n",
              "      <th>Inflight wifi service</th>\n",
              "      <th>Departure/Arrival time convenient</th>\n",
              "      <th>Ease of Online booking</th>\n",
              "      <th>Gate location</th>\n",
              "      <th>Food and drink</th>\n",
              "      <th>Online boarding</th>\n",
              "      <th>Seat comfort</th>\n",
              "      <th>Inflight entertainment</th>\n",
              "      <th>...</th>\n",
              "      <th>Arrival Delay in Minutes</th>\n",
              "      <th>Departure Delay in Minutes</th>\n",
              "      <th>Flight Distance</th>\n",
              "      <th>Gender_Female</th>\n",
              "      <th>Gender_Male</th>\n",
              "      <th>Type of Travel_Business travel</th>\n",
              "      <th>Type of Travel_Personal Travel</th>\n",
              "      <th>Customer Type_Loyal Customer</th>\n",
              "      <th>Customer Type_disloyal Customer</th>\n",
              "      <th>satisfaction</th>\n",
              "    </tr>\n",
              "  </thead>\n",
              "  <tbody>\n",
              "    <tr>\n",
              "      <th>0</th>\n",
              "      <td>0.089744</td>\n",
              "      <td>1.0</td>\n",
              "      <td>0.8</td>\n",
              "      <td>0.8</td>\n",
              "      <td>0.2</td>\n",
              "      <td>0.8</td>\n",
              "      <td>1.0</td>\n",
              "      <td>0.8</td>\n",
              "      <td>1.00</td>\n",
              "      <td>1.0</td>\n",
              "      <td>...</td>\n",
              "      <td>0.000000</td>\n",
              "      <td>0.0</td>\n",
              "      <td>0.0</td>\n",
              "      <td>1.0</td>\n",
              "      <td>0.0</td>\n",
              "      <td>1.0</td>\n",
              "      <td>0.0</td>\n",
              "      <td>1.0</td>\n",
              "      <td>0.0</td>\n",
              "      <td>1</td>\n",
              "    </tr>\n",
              "    <tr>\n",
              "      <th>1</th>\n",
              "      <td>0.410256</td>\n",
              "      <td>1.0</td>\n",
              "      <td>1.0</td>\n",
              "      <td>1.0</td>\n",
              "      <td>1.0</td>\n",
              "      <td>1.0</td>\n",
              "      <td>0.8</td>\n",
              "      <td>0.8</td>\n",
              "      <td>0.75</td>\n",
              "      <td>1.0</td>\n",
              "      <td>...</td>\n",
              "      <td>0.000000</td>\n",
              "      <td>0.0</td>\n",
              "      <td>0.0</td>\n",
              "      <td>0.0</td>\n",
              "      <td>1.0</td>\n",
              "      <td>1.0</td>\n",
              "      <td>0.0</td>\n",
              "      <td>1.0</td>\n",
              "      <td>0.0</td>\n",
              "      <td>1</td>\n",
              "    </tr>\n",
              "    <tr>\n",
              "      <th>2</th>\n",
              "      <td>0.230769</td>\n",
              "      <td>1.0</td>\n",
              "      <td>0.4</td>\n",
              "      <td>1.0</td>\n",
              "      <td>0.4</td>\n",
              "      <td>0.6</td>\n",
              "      <td>0.2</td>\n",
              "      <td>0.4</td>\n",
              "      <td>0.00</td>\n",
              "      <td>0.2</td>\n",
              "      <td>...</td>\n",
              "      <td>0.333333</td>\n",
              "      <td>0.5</td>\n",
              "      <td>0.0</td>\n",
              "      <td>0.0</td>\n",
              "      <td>1.0</td>\n",
              "      <td>1.0</td>\n",
              "      <td>0.0</td>\n",
              "      <td>0.0</td>\n",
              "      <td>1.0</td>\n",
              "      <td>0</td>\n",
              "    </tr>\n",
              "    <tr>\n",
              "      <th>3</th>\n",
              "      <td>0.217949</td>\n",
              "      <td>0.5</td>\n",
              "      <td>1.0</td>\n",
              "      <td>0.0</td>\n",
              "      <td>1.0</td>\n",
              "      <td>0.6</td>\n",
              "      <td>0.4</td>\n",
              "      <td>1.0</td>\n",
              "      <td>0.25</td>\n",
              "      <td>0.4</td>\n",
              "      <td>...</td>\n",
              "      <td>0.000000</td>\n",
              "      <td>0.0</td>\n",
              "      <td>0.0</td>\n",
              "      <td>1.0</td>\n",
              "      <td>0.0</td>\n",
              "      <td>1.0</td>\n",
              "      <td>0.0</td>\n",
              "      <td>0.0</td>\n",
              "      <td>1.0</td>\n",
              "      <td>1</td>\n",
              "    </tr>\n",
              "    <tr>\n",
              "      <th>4</th>\n",
              "      <td>0.512821</td>\n",
              "      <td>1.0</td>\n",
              "      <td>0.2</td>\n",
              "      <td>0.2</td>\n",
              "      <td>0.2</td>\n",
              "      <td>0.2</td>\n",
              "      <td>0.4</td>\n",
              "      <td>1.0</td>\n",
              "      <td>0.75</td>\n",
              "      <td>0.8</td>\n",
              "      <td>...</td>\n",
              "      <td>0.333333</td>\n",
              "      <td>0.5</td>\n",
              "      <td>0.0</td>\n",
              "      <td>0.0</td>\n",
              "      <td>1.0</td>\n",
              "      <td>1.0</td>\n",
              "      <td>0.0</td>\n",
              "      <td>1.0</td>\n",
              "      <td>0.0</td>\n",
              "      <td>1</td>\n",
              "    </tr>\n",
              "  </tbody>\n",
              "</table>\n",
              "<p>5 rows × 26 columns</p>\n",
              "</div>\n",
              "    <div class=\"colab-df-buttons\">\n",
              "\n",
              "  <div class=\"colab-df-container\">\n",
              "    <button class=\"colab-df-convert\" onclick=\"convertToInteractive('df-19b0b479-910c-42ab-a700-f961c2af7bce')\"\n",
              "            title=\"Convert this dataframe to an interactive table.\"\n",
              "            style=\"display:none;\">\n",
              "\n",
              "  <svg xmlns=\"http://www.w3.org/2000/svg\" height=\"24px\" viewBox=\"0 -960 960 960\">\n",
              "    <path d=\"M120-120v-720h720v720H120Zm60-500h600v-160H180v160Zm220 220h160v-160H400v160Zm0 220h160v-160H400v160ZM180-400h160v-160H180v160Zm440 0h160v-160H620v160ZM180-180h160v-160H180v160Zm440 0h160v-160H620v160Z\"/>\n",
              "  </svg>\n",
              "    </button>\n",
              "\n",
              "  <style>\n",
              "    .colab-df-container {\n",
              "      display:flex;\n",
              "      gap: 12px;\n",
              "    }\n",
              "\n",
              "    .colab-df-convert {\n",
              "      background-color: #E8F0FE;\n",
              "      border: none;\n",
              "      border-radius: 50%;\n",
              "      cursor: pointer;\n",
              "      display: none;\n",
              "      fill: #1967D2;\n",
              "      height: 32px;\n",
              "      padding: 0 0 0 0;\n",
              "      width: 32px;\n",
              "    }\n",
              "\n",
              "    .colab-df-convert:hover {\n",
              "      background-color: #E2EBFA;\n",
              "      box-shadow: 0px 1px 2px rgba(60, 64, 67, 0.3), 0px 1px 3px 1px rgba(60, 64, 67, 0.15);\n",
              "      fill: #174EA6;\n",
              "    }\n",
              "\n",
              "    .colab-df-buttons div {\n",
              "      margin-bottom: 4px;\n",
              "    }\n",
              "\n",
              "    [theme=dark] .colab-df-convert {\n",
              "      background-color: #3B4455;\n",
              "      fill: #D2E3FC;\n",
              "    }\n",
              "\n",
              "    [theme=dark] .colab-df-convert:hover {\n",
              "      background-color: #434B5C;\n",
              "      box-shadow: 0px 1px 3px 1px rgba(0, 0, 0, 0.15);\n",
              "      filter: drop-shadow(0px 1px 2px rgba(0, 0, 0, 0.3));\n",
              "      fill: #FFFFFF;\n",
              "    }\n",
              "  </style>\n",
              "\n",
              "    <script>\n",
              "      const buttonEl =\n",
              "        document.querySelector('#df-19b0b479-910c-42ab-a700-f961c2af7bce button.colab-df-convert');\n",
              "      buttonEl.style.display =\n",
              "        google.colab.kernel.accessAllowed ? 'block' : 'none';\n",
              "\n",
              "      async function convertToInteractive(key) {\n",
              "        const element = document.querySelector('#df-19b0b479-910c-42ab-a700-f961c2af7bce');\n",
              "        const dataTable =\n",
              "          await google.colab.kernel.invokeFunction('convertToInteractive',\n",
              "                                                    [key], {});\n",
              "        if (!dataTable) return;\n",
              "\n",
              "        const docLinkHtml = 'Like what you see? Visit the ' +\n",
              "          '<a target=\"_blank\" href=https://colab.research.google.com/notebooks/data_table.ipynb>data table notebook</a>'\n",
              "          + ' to learn more about interactive tables.';\n",
              "        element.innerHTML = '';\n",
              "        dataTable['output_type'] = 'display_data';\n",
              "        await google.colab.output.renderOutput(dataTable, element);\n",
              "        const docLink = document.createElement('div');\n",
              "        docLink.innerHTML = docLinkHtml;\n",
              "        element.appendChild(docLink);\n",
              "      }\n",
              "    </script>\n",
              "  </div>\n",
              "\n",
              "\n",
              "<div id=\"df-6180b997-6ec1-4a08-b3d8-fdb4c2f10ee2\">\n",
              "  <button class=\"colab-df-quickchart\" onclick=\"quickchart('df-6180b997-6ec1-4a08-b3d8-fdb4c2f10ee2')\"\n",
              "            title=\"Suggest charts\"\n",
              "            style=\"display:none;\">\n",
              "\n",
              "<svg xmlns=\"http://www.w3.org/2000/svg\" height=\"24px\"viewBox=\"0 0 24 24\"\n",
              "     width=\"24px\">\n",
              "    <g>\n",
              "        <path d=\"M19 3H5c-1.1 0-2 .9-2 2v14c0 1.1.9 2 2 2h14c1.1 0 2-.9 2-2V5c0-1.1-.9-2-2-2zM9 17H7v-7h2v7zm4 0h-2V7h2v10zm4 0h-2v-4h2v4z\"/>\n",
              "    </g>\n",
              "</svg>\n",
              "  </button>\n",
              "\n",
              "<style>\n",
              "  .colab-df-quickchart {\n",
              "      --bg-color: #E8F0FE;\n",
              "      --fill-color: #1967D2;\n",
              "      --hover-bg-color: #E2EBFA;\n",
              "      --hover-fill-color: #174EA6;\n",
              "      --disabled-fill-color: #AAA;\n",
              "      --disabled-bg-color: #DDD;\n",
              "  }\n",
              "\n",
              "  [theme=dark] .colab-df-quickchart {\n",
              "      --bg-color: #3B4455;\n",
              "      --fill-color: #D2E3FC;\n",
              "      --hover-bg-color: #434B5C;\n",
              "      --hover-fill-color: #FFFFFF;\n",
              "      --disabled-bg-color: #3B4455;\n",
              "      --disabled-fill-color: #666;\n",
              "  }\n",
              "\n",
              "  .colab-df-quickchart {\n",
              "    background-color: var(--bg-color);\n",
              "    border: none;\n",
              "    border-radius: 50%;\n",
              "    cursor: pointer;\n",
              "    display: none;\n",
              "    fill: var(--fill-color);\n",
              "    height: 32px;\n",
              "    padding: 0;\n",
              "    width: 32px;\n",
              "  }\n",
              "\n",
              "  .colab-df-quickchart:hover {\n",
              "    background-color: var(--hover-bg-color);\n",
              "    box-shadow: 0 1px 2px rgba(60, 64, 67, 0.3), 0 1px 3px 1px rgba(60, 64, 67, 0.15);\n",
              "    fill: var(--button-hover-fill-color);\n",
              "  }\n",
              "\n",
              "  .colab-df-quickchart-complete:disabled,\n",
              "  .colab-df-quickchart-complete:disabled:hover {\n",
              "    background-color: var(--disabled-bg-color);\n",
              "    fill: var(--disabled-fill-color);\n",
              "    box-shadow: none;\n",
              "  }\n",
              "\n",
              "  .colab-df-spinner {\n",
              "    border: 2px solid var(--fill-color);\n",
              "    border-color: transparent;\n",
              "    border-bottom-color: var(--fill-color);\n",
              "    animation:\n",
              "      spin 1s steps(1) infinite;\n",
              "  }\n",
              "\n",
              "  @keyframes spin {\n",
              "    0% {\n",
              "      border-color: transparent;\n",
              "      border-bottom-color: var(--fill-color);\n",
              "      border-left-color: var(--fill-color);\n",
              "    }\n",
              "    20% {\n",
              "      border-color: transparent;\n",
              "      border-left-color: var(--fill-color);\n",
              "      border-top-color: var(--fill-color);\n",
              "    }\n",
              "    30% {\n",
              "      border-color: transparent;\n",
              "      border-left-color: var(--fill-color);\n",
              "      border-top-color: var(--fill-color);\n",
              "      border-right-color: var(--fill-color);\n",
              "    }\n",
              "    40% {\n",
              "      border-color: transparent;\n",
              "      border-right-color: var(--fill-color);\n",
              "      border-top-color: var(--fill-color);\n",
              "    }\n",
              "    60% {\n",
              "      border-color: transparent;\n",
              "      border-right-color: var(--fill-color);\n",
              "    }\n",
              "    80% {\n",
              "      border-color: transparent;\n",
              "      border-right-color: var(--fill-color);\n",
              "      border-bottom-color: var(--fill-color);\n",
              "    }\n",
              "    90% {\n",
              "      border-color: transparent;\n",
              "      border-bottom-color: var(--fill-color);\n",
              "    }\n",
              "  }\n",
              "</style>\n",
              "\n",
              "  <script>\n",
              "    async function quickchart(key) {\n",
              "      const quickchartButtonEl =\n",
              "        document.querySelector('#' + key + ' button');\n",
              "      quickchartButtonEl.disabled = true;  // To prevent multiple clicks.\n",
              "      quickchartButtonEl.classList.add('colab-df-spinner');\n",
              "      try {\n",
              "        const charts = await google.colab.kernel.invokeFunction(\n",
              "            'suggestCharts', [key], {});\n",
              "      } catch (error) {\n",
              "        console.error('Error during call to suggestCharts:', error);\n",
              "      }\n",
              "      quickchartButtonEl.classList.remove('colab-df-spinner');\n",
              "      quickchartButtonEl.classList.add('colab-df-quickchart-complete');\n",
              "    }\n",
              "    (() => {\n",
              "      let quickchartButtonEl =\n",
              "        document.querySelector('#df-6180b997-6ec1-4a08-b3d8-fdb4c2f10ee2 button');\n",
              "      quickchartButtonEl.style.display =\n",
              "        google.colab.kernel.accessAllowed ? 'block' : 'none';\n",
              "    })();\n",
              "  </script>\n",
              "</div>\n",
              "\n",
              "    </div>\n",
              "  </div>\n"
            ],
            "application/vnd.google.colaboratory.intrinsic+json": {
              "type": "dataframe",
              "variable_name": "train_df"
            }
          },
          "metadata": {},
          "execution_count": 5
        }
      ]
    },
    {
      "cell_type": "code",
      "source": [
        "train_df.columns"
      ],
      "metadata": {
        "colab": {
          "base_uri": "https://localhost:8080/"
        },
        "id": "_koLXOKV_2Xx",
        "outputId": "2f801149-9bc1-4dda-e087-0ea8587ac93e"
      },
      "execution_count": 6,
      "outputs": [
        {
          "output_type": "execute_result",
          "data": {
            "text/plain": [
              "Index(['Age', 'Class', 'Inflight wifi service',\n",
              "       'Departure/Arrival time convenient', 'Ease of Online booking',\n",
              "       'Gate location', 'Food and drink', 'Online boarding', 'Seat comfort',\n",
              "       'Inflight entertainment', 'On-board service', 'Leg room service',\n",
              "       'Baggage handling', 'Checkin service', 'Inflight service',\n",
              "       'Cleanliness', 'Arrival Delay in Minutes', 'Departure Delay in Minutes',\n",
              "       'Flight Distance', 'Gender_Female', 'Gender_Male',\n",
              "       'Type of Travel_Business travel', 'Type of Travel_Personal Travel',\n",
              "       'Customer Type_Loyal Customer', 'Customer Type_disloyal Customer',\n",
              "       'satisfaction'],\n",
              "      dtype='object')"
            ]
          },
          "metadata": {},
          "execution_count": 6
        }
      ]
    },
    {
      "cell_type": "code",
      "source": [
        "features = train_df.columns.drop('satisfaction')\n",
        "target = 'satisfaction'"
      ],
      "metadata": {
        "id": "Ea6yt-EJEivH"
      },
      "execution_count": 8,
      "outputs": []
    },
    {
      "cell_type": "code",
      "source": [
        "# Sample 5% of the training data\n",
        "train_sample = resample(train_df, n_samples=int(0.05 * len(train_df)), random_state=42)"
      ],
      "metadata": {
        "id": "_B4Fvrm-EjP0"
      },
      "execution_count": 15,
      "outputs": []
    },
    {
      "cell_type": "code",
      "source": [
        "X_train = train_sample[features]\n",
        "y_train = train_sample[target]\n",
        "X_val = val_df[features]\n",
        "y_val = val_df[target]\n",
        "X_test = test_df[features]\n",
        "y_test = test_df[target]"
      ],
      "metadata": {
        "id": "OjPv6jd2Evs5"
      },
      "execution_count": 16,
      "outputs": []
    },
    {
      "cell_type": "code",
      "source": [
        "mlp = MLPClassifier(hidden_layer_sizes=(10,), random_state=42)"
      ],
      "metadata": {
        "id": "9lFjlVDpEwRu"
      },
      "execution_count": 17,
      "outputs": []
    },
    {
      "cell_type": "code",
      "source": [
        "mlp.fit(X_train, y_train)\n",
        "mlp_val_pred = mlp.predict(X_val)\n",
        "mlp_accuracy = accuracy_score(y_val, mlp_val_pred)"
      ],
      "metadata": {
        "colab": {
          "base_uri": "https://localhost:8080/"
        },
        "id": "9G5D7L8sE4aP",
        "outputId": "e325759b-7709-4c31-b2e6-17de705b4575"
      },
      "execution_count": 18,
      "outputs": [
        {
          "output_type": "stream",
          "name": "stderr",
          "text": [
            "/usr/local/lib/python3.10/dist-packages/sklearn/neural_network/_multilayer_perceptron.py:686: ConvergenceWarning: Stochastic Optimizer: Maximum iterations (200) reached and the optimization hasn't converged yet.\n",
            "  warnings.warn(\n"
          ]
        }
      ]
    },
    {
      "cell_type": "code",
      "source": [
        "mlp_accuracy"
      ],
      "metadata": {
        "colab": {
          "base_uri": "https://localhost:8080/"
        },
        "id": "8oLn3rf9Fgu3",
        "outputId": "1d08aa33-01ff-4979-c5a8-e53b19f8cf6b"
      },
      "execution_count": 19,
      "outputs": [
        {
          "output_type": "execute_result",
          "data": {
            "text/plain": [
              "0.909955343393902"
            ]
          },
          "metadata": {},
          "execution_count": 19
        }
      ]
    },
    {
      "cell_type": "code",
      "source": [
        "mlp = MLPClassifier(hidden_layer_sizes=(50,), random_state=42)"
      ],
      "metadata": {
        "id": "0eyzgG1RF-sK"
      },
      "execution_count": 22,
      "outputs": []
    },
    {
      "cell_type": "code",
      "source": [
        "mlp.fit(X_train, y_train)\n",
        "mlp_val_pred = mlp.predict(X_val)\n",
        "mlp_accuracy = accuracy_score(y_val, mlp_val_pred)\n",
        "mlp_accuracy"
      ],
      "metadata": {
        "colab": {
          "base_uri": "https://localhost:8080/"
        },
        "id": "oF23wfzAGAlH",
        "outputId": "b2df5520-29ed-49b3-9976-ecf7bc5cc2e4"
      },
      "execution_count": 23,
      "outputs": [
        {
          "output_type": "stream",
          "name": "stderr",
          "text": [
            "/usr/local/lib/python3.10/dist-packages/sklearn/neural_network/_multilayer_perceptron.py:686: ConvergenceWarning: Stochastic Optimizer: Maximum iterations (200) reached and the optimization hasn't converged yet.\n",
            "  warnings.warn(\n"
          ]
        },
        {
          "output_type": "execute_result",
          "data": {
            "text/plain": [
              "0.9222359100708346"
            ]
          },
          "metadata": {},
          "execution_count": 23
        }
      ]
    },
    {
      "cell_type": "code",
      "source": [
        "X_train = train_df[features]\n",
        "y_train = train_df[target]\n",
        "X_val = val_df[features]\n",
        "y_val = val_df[target]\n",
        "X_test = test_df[features]\n",
        "y_test = test_df[target]"
      ],
      "metadata": {
        "id": "TuOWumUTHgRL"
      },
      "execution_count": 24,
      "outputs": []
    },
    {
      "cell_type": "code",
      "source": [
        "mlp = MLPClassifier(hidden_layer_sizes=(10,), random_state=42)"
      ],
      "metadata": {
        "id": "VG2D1_T0IGZ9"
      },
      "execution_count": 25,
      "outputs": []
    },
    {
      "cell_type": "code",
      "source": [
        "mlp.fit(X_train, y_train)\n",
        "mlp_val_pred = mlp.predict(X_val)\n",
        "mlp_accuracy = accuracy_score(y_val, mlp_val_pred)\n",
        "mlp_accuracy"
      ],
      "metadata": {
        "colab": {
          "base_uri": "https://localhost:8080/"
        },
        "id": "Mcp05vbnIJ9r",
        "outputId": "e2d00dd5-e927-41c5-b9b8-a94e17ad469d"
      },
      "execution_count": 26,
      "outputs": [
        {
          "output_type": "execute_result",
          "data": {
            "text/plain": [
              "0.9469510317215891"
            ]
          },
          "metadata": {},
          "execution_count": 26
        }
      ]
    },
    {
      "cell_type": "code",
      "source": [
        "mlp = MLPClassifier(hidden_layer_sizes=(50,), random_state=42)"
      ],
      "metadata": {
        "id": "n6DgfaIrIcI-"
      },
      "execution_count": 27,
      "outputs": []
    },
    {
      "cell_type": "code",
      "source": [
        "mlp.fit(X_train, y_train)\n",
        "mlp_val_pred = mlp.predict(X_val)\n",
        "mlp_accuracy = accuracy_score(y_val, mlp_val_pred)\n",
        "mlp_accuracy"
      ],
      "metadata": {
        "colab": {
          "base_uri": "https://localhost:8080/"
        },
        "id": "DrDkunJyIeoc",
        "outputId": "8af87508-d94b-4e88-dddc-7997091dfb96"
      },
      "execution_count": 28,
      "outputs": [
        {
          "output_type": "execute_result",
          "data": {
            "text/plain": [
              "0.9534955343393902"
            ]
          },
          "metadata": {},
          "execution_count": 28
        }
      ]
    },
    {
      "cell_type": "markdown",
      "source": [
        "## Fine Tuning"
      ],
      "metadata": {
        "id": "gZsfqPixJpvq"
      }
    },
    {
      "cell_type": "code",
      "source": [
        "# Optuna optimization function\n",
        "def objective(trial):\n",
        "    # Suggest hyperparameters\n",
        "    n_layers = trial.suggest_int('n_layers', 1, 3)  # Number of layers\n",
        "    hidden_layer_sizes = tuple(trial.suggest_int(f'n_units_l{i}', 10, 100) for i in range(n_layers))\n",
        "    learning_rate_init = trial.suggest_loguniform('learning_rate_init', 0.0001, 0.1)\n",
        "    activation = trial.suggest_categorical('activation', ['relu', 'tanh'])\n",
        "    solver = trial.suggest_categorical('solver', ['adam', 'sgd'])\n",
        "    alpha = trial.suggest_loguniform('alpha', 0.00001, 0.01)  # L2 regularization\n",
        "\n",
        "    # Initialize MLP\n",
        "    mlp = MLPClassifier(\n",
        "        hidden_layer_sizes=hidden_layer_sizes,\n",
        "        learning_rate_init=learning_rate_init,\n",
        "        activation=activation,\n",
        "        solver=solver,\n",
        "        alpha=alpha,\n",
        "        max_iter=200,\n",
        "        random_state=42\n",
        "    )\n",
        "\n",
        "    # Train and evaluate\n",
        "    mlp.fit(X_train, y_train)\n",
        "    val_pred = mlp.predict(X_val)\n",
        "    accuracy = accuracy_score(y_val, val_pred)\n",
        "\n",
        "    return accuracy\n"
      ],
      "metadata": {
        "id": "L_BDMkoXJMzE"
      },
      "execution_count": 35,
      "outputs": []
    },
    {
      "cell_type": "code",
      "source": [
        "# Create study and optimize\n",
        "study = optuna.create_study(direction='maximize')\n",
        "study.optimize(objective, n_trials=50)"
      ],
      "metadata": {
        "colab": {
          "base_uri": "https://localhost:8080/"
        },
        "id": "ti_3EWMrJwim",
        "outputId": "fe9ba1cc-839a-4431-a154-8497df57f541"
      },
      "execution_count": 36,
      "outputs": [
        {
          "output_type": "stream",
          "name": "stderr",
          "text": [
            "[I 2024-07-18 23:22:10,170] A new study created in memory with name: no-name-28fdb23f-218b-4c14-b60d-7a0659262929\n",
            "<ipython-input-35-e5adba4ff3e5>:6: FutureWarning: suggest_loguniform has been deprecated in v3.0.0. This feature will be removed in v6.0.0. See https://github.com/optuna/optuna/releases/tag/v3.0.0. Use suggest_float(..., log=True) instead.\n",
            "  learning_rate_init = trial.suggest_loguniform('learning_rate_init', 0.0001, 0.1)\n",
            "<ipython-input-35-e5adba4ff3e5>:9: FutureWarning: suggest_loguniform has been deprecated in v3.0.0. This feature will be removed in v6.0.0. See https://github.com/optuna/optuna/releases/tag/v3.0.0. Use suggest_float(..., log=True) instead.\n",
            "  alpha = trial.suggest_loguniform('alpha', 0.00001, 0.01)  # L2 regularization\n",
            "/usr/local/lib/python3.10/dist-packages/sklearn/neural_network/_multilayer_perceptron.py:686: ConvergenceWarning: Stochastic Optimizer: Maximum iterations (200) reached and the optimization hasn't converged yet.\n",
            "  warnings.warn(\n",
            "[I 2024-07-18 23:26:16,178] Trial 0 finished with value: 0.9300123190637511 and parameters: {'n_layers': 1, 'n_units_l0': 88, 'learning_rate_init': 0.0012468361087879937, 'activation': 'tanh', 'solver': 'sgd', 'alpha': 0.004407274083414453}. Best is trial 0 with value: 0.9300123190637511.\n",
            "<ipython-input-35-e5adba4ff3e5>:6: FutureWarning: suggest_loguniform has been deprecated in v3.0.0. This feature will be removed in v6.0.0. See https://github.com/optuna/optuna/releases/tag/v3.0.0. Use suggest_float(..., log=True) instead.\n",
            "  learning_rate_init = trial.suggest_loguniform('learning_rate_init', 0.0001, 0.1)\n",
            "<ipython-input-35-e5adba4ff3e5>:9: FutureWarning: suggest_loguniform has been deprecated in v3.0.0. This feature will be removed in v6.0.0. See https://github.com/optuna/optuna/releases/tag/v3.0.0. Use suggest_float(..., log=True) instead.\n",
            "  alpha = trial.suggest_loguniform('alpha', 0.00001, 0.01)  # L2 regularization\n",
            "/usr/local/lib/python3.10/dist-packages/sklearn/neural_network/_multilayer_perceptron.py:686: ConvergenceWarning: Stochastic Optimizer: Maximum iterations (200) reached and the optimization hasn't converged yet.\n",
            "  warnings.warn(\n",
            "[I 2024-07-18 23:28:45,943] Trial 1 finished with value: 0.9575377271327379 and parameters: {'n_layers': 2, 'n_units_l0': 59, 'n_units_l1': 39, 'learning_rate_init': 0.01568616750331476, 'activation': 'relu', 'solver': 'sgd', 'alpha': 0.0001347621892342262}. Best is trial 1 with value: 0.9575377271327379.\n",
            "<ipython-input-35-e5adba4ff3e5>:6: FutureWarning: suggest_loguniform has been deprecated in v3.0.0. This feature will be removed in v6.0.0. See https://github.com/optuna/optuna/releases/tag/v3.0.0. Use suggest_float(..., log=True) instead.\n",
            "  learning_rate_init = trial.suggest_loguniform('learning_rate_init', 0.0001, 0.1)\n",
            "<ipython-input-35-e5adba4ff3e5>:9: FutureWarning: suggest_loguniform has been deprecated in v3.0.0. This feature will be removed in v6.0.0. See https://github.com/optuna/optuna/releases/tag/v3.0.0. Use suggest_float(..., log=True) instead.\n",
            "  alpha = trial.suggest_loguniform('alpha', 0.00001, 0.01)  # L2 regularization\n",
            "/usr/local/lib/python3.10/dist-packages/sklearn/neural_network/_multilayer_perceptron.py:686: ConvergenceWarning: Stochastic Optimizer: Maximum iterations (200) reached and the optimization hasn't converged yet.\n",
            "  warnings.warn(\n",
            "[I 2024-07-18 23:33:01,901] Trial 2 finished with value: 0.9479904527255929 and parameters: {'n_layers': 3, 'n_units_l0': 58, 'n_units_l1': 56, 'n_units_l2': 87, 'learning_rate_init': 0.00044273675255085285, 'activation': 'relu', 'solver': 'sgd', 'alpha': 0.0003278228840523709}. Best is trial 1 with value: 0.9575377271327379.\n",
            "<ipython-input-35-e5adba4ff3e5>:6: FutureWarning: suggest_loguniform has been deprecated in v3.0.0. This feature will be removed in v6.0.0. See https://github.com/optuna/optuna/releases/tag/v3.0.0. Use suggest_float(..., log=True) instead.\n",
            "  learning_rate_init = trial.suggest_loguniform('learning_rate_init', 0.0001, 0.1)\n",
            "<ipython-input-35-e5adba4ff3e5>:9: FutureWarning: suggest_loguniform has been deprecated in v3.0.0. This feature will be removed in v6.0.0. See https://github.com/optuna/optuna/releases/tag/v3.0.0. Use suggest_float(..., log=True) instead.\n",
            "  alpha = trial.suggest_loguniform('alpha', 0.00001, 0.01)  # L2 regularization\n",
            "/usr/local/lib/python3.10/dist-packages/sklearn/neural_network/_multilayer_perceptron.py:686: ConvergenceWarning: Stochastic Optimizer: Maximum iterations (200) reached and the optimization hasn't converged yet.\n",
            "  warnings.warn(\n",
            "[I 2024-07-18 23:33:51,524] Trial 3 finished with value: 0.9451031721589159 and parameters: {'n_layers': 1, 'n_units_l0': 33, 'learning_rate_init': 0.0024758345668706235, 'activation': 'relu', 'solver': 'sgd', 'alpha': 0.006446999856823421}. Best is trial 1 with value: 0.9575377271327379.\n",
            "<ipython-input-35-e5adba4ff3e5>:6: FutureWarning: suggest_loguniform has been deprecated in v3.0.0. This feature will be removed in v6.0.0. See https://github.com/optuna/optuna/releases/tag/v3.0.0. Use suggest_float(..., log=True) instead.\n",
            "  learning_rate_init = trial.suggest_loguniform('learning_rate_init', 0.0001, 0.1)\n",
            "<ipython-input-35-e5adba4ff3e5>:9: FutureWarning: suggest_loguniform has been deprecated in v3.0.0. This feature will be removed in v6.0.0. See https://github.com/optuna/optuna/releases/tag/v3.0.0. Use suggest_float(..., log=True) instead.\n",
            "  alpha = trial.suggest_loguniform('alpha', 0.00001, 0.01)  # L2 regularization\n",
            "/usr/local/lib/python3.10/dist-packages/sklearn/neural_network/_multilayer_perceptron.py:686: ConvergenceWarning: Stochastic Optimizer: Maximum iterations (200) reached and the optimization hasn't converged yet.\n",
            "  warnings.warn(\n",
            "[I 2024-07-18 23:38:47,446] Trial 4 finished with value: 0.9389436402833384 and parameters: {'n_layers': 2, 'n_units_l0': 36, 'n_units_l1': 65, 'learning_rate_init': 0.0006942602882177992, 'activation': 'tanh', 'solver': 'sgd', 'alpha': 6.252225062612343e-05}. Best is trial 1 with value: 0.9575377271327379.\n",
            "<ipython-input-35-e5adba4ff3e5>:6: FutureWarning: suggest_loguniform has been deprecated in v3.0.0. This feature will be removed in v6.0.0. See https://github.com/optuna/optuna/releases/tag/v3.0.0. Use suggest_float(..., log=True) instead.\n",
            "  learning_rate_init = trial.suggest_loguniform('learning_rate_init', 0.0001, 0.1)\n",
            "<ipython-input-35-e5adba4ff3e5>:9: FutureWarning: suggest_loguniform has been deprecated in v3.0.0. This feature will be removed in v6.0.0. See https://github.com/optuna/optuna/releases/tag/v3.0.0. Use suggest_float(..., log=True) instead.\n",
            "  alpha = trial.suggest_loguniform('alpha', 0.00001, 0.01)  # L2 regularization\n",
            "/usr/local/lib/python3.10/dist-packages/sklearn/neural_network/_multilayer_perceptron.py:686: ConvergenceWarning: Stochastic Optimizer: Maximum iterations (200) reached and the optimization hasn't converged yet.\n",
            "  warnings.warn(\n",
            "[I 2024-07-18 23:43:34,816] Trial 5 finished with value: 0.9316676932553126 and parameters: {'n_layers': 2, 'n_units_l0': 15, 'n_units_l1': 86, 'learning_rate_init': 0.0005526334845019307, 'activation': 'tanh', 'solver': 'sgd', 'alpha': 0.007771303016326108}. Best is trial 1 with value: 0.9575377271327379.\n",
            "<ipython-input-35-e5adba4ff3e5>:6: FutureWarning: suggest_loguniform has been deprecated in v3.0.0. This feature will be removed in v6.0.0. See https://github.com/optuna/optuna/releases/tag/v3.0.0. Use suggest_float(..., log=True) instead.\n",
            "  learning_rate_init = trial.suggest_loguniform('learning_rate_init', 0.0001, 0.1)\n",
            "<ipython-input-35-e5adba4ff3e5>:9: FutureWarning: suggest_loguniform has been deprecated in v3.0.0. This feature will be removed in v6.0.0. See https://github.com/optuna/optuna/releases/tag/v3.0.0. Use suggest_float(..., log=True) instead.\n",
            "  alpha = trial.suggest_loguniform('alpha', 0.00001, 0.01)  # L2 regularization\n",
            "/usr/local/lib/python3.10/dist-packages/sklearn/neural_network/_multilayer_perceptron.py:686: ConvergenceWarning: Stochastic Optimizer: Maximum iterations (200) reached and the optimization hasn't converged yet.\n",
            "  warnings.warn(\n",
            "[I 2024-07-18 23:46:11,442] Trial 6 finished with value: 0.9202340622112719 and parameters: {'n_layers': 2, 'n_units_l0': 60, 'n_units_l1': 27, 'learning_rate_init': 0.0001425818361903918, 'activation': 'relu', 'solver': 'sgd', 'alpha': 0.0002515923619141982}. Best is trial 1 with value: 0.9575377271327379.\n",
            "<ipython-input-35-e5adba4ff3e5>:6: FutureWarning: suggest_loguniform has been deprecated in v3.0.0. This feature will be removed in v6.0.0. See https://github.com/optuna/optuna/releases/tag/v3.0.0. Use suggest_float(..., log=True) instead.\n",
            "  learning_rate_init = trial.suggest_loguniform('learning_rate_init', 0.0001, 0.1)\n",
            "<ipython-input-35-e5adba4ff3e5>:9: FutureWarning: suggest_loguniform has been deprecated in v3.0.0. This feature will be removed in v6.0.0. See https://github.com/optuna/optuna/releases/tag/v3.0.0. Use suggest_float(..., log=True) instead.\n",
            "  alpha = trial.suggest_loguniform('alpha', 0.00001, 0.01)  # L2 regularization\n",
            "/usr/local/lib/python3.10/dist-packages/sklearn/neural_network/_multilayer_perceptron.py:686: ConvergenceWarning: Stochastic Optimizer: Maximum iterations (200) reached and the optimization hasn't converged yet.\n",
            "  warnings.warn(\n",
            "[I 2024-07-18 23:50:39,038] Trial 7 finished with value: 0.9521096396673853 and parameters: {'n_layers': 3, 'n_units_l0': 19, 'n_units_l1': 90, 'n_units_l2': 84, 'learning_rate_init': 0.0011123127655034738, 'activation': 'relu', 'solver': 'sgd', 'alpha': 0.0006634078094930475}. Best is trial 1 with value: 0.9575377271327379.\n",
            "<ipython-input-35-e5adba4ff3e5>:6: FutureWarning: suggest_loguniform has been deprecated in v3.0.0. This feature will be removed in v6.0.0. See https://github.com/optuna/optuna/releases/tag/v3.0.0. Use suggest_float(..., log=True) instead.\n",
            "  learning_rate_init = trial.suggest_loguniform('learning_rate_init', 0.0001, 0.1)\n",
            "<ipython-input-35-e5adba4ff3e5>:9: FutureWarning: suggest_loguniform has been deprecated in v3.0.0. This feature will be removed in v6.0.0. See https://github.com/optuna/optuna/releases/tag/v3.0.0. Use suggest_float(..., log=True) instead.\n",
            "  alpha = trial.suggest_loguniform('alpha', 0.00001, 0.01)  # L2 regularization\n",
            "/usr/local/lib/python3.10/dist-packages/sklearn/neural_network/_multilayer_perceptron.py:686: ConvergenceWarning: Stochastic Optimizer: Maximum iterations (200) reached and the optimization hasn't converged yet.\n",
            "  warnings.warn(\n",
            "[I 2024-07-18 23:58:35,582] Trial 8 finished with value: 0.951647674776717 and parameters: {'n_layers': 3, 'n_units_l0': 94, 'n_units_l1': 66, 'n_units_l2': 14, 'learning_rate_init': 0.0015143036946865154, 'activation': 'tanh', 'solver': 'adam', 'alpha': 3.0359591044166028e-05}. Best is trial 1 with value: 0.9575377271327379.\n",
            "<ipython-input-35-e5adba4ff3e5>:6: FutureWarning: suggest_loguniform has been deprecated in v3.0.0. This feature will be removed in v6.0.0. See https://github.com/optuna/optuna/releases/tag/v3.0.0. Use suggest_float(..., log=True) instead.\n",
            "  learning_rate_init = trial.suggest_loguniform('learning_rate_init', 0.0001, 0.1)\n",
            "<ipython-input-35-e5adba4ff3e5>:9: FutureWarning: suggest_loguniform has been deprecated in v3.0.0. This feature will be removed in v6.0.0. See https://github.com/optuna/optuna/releases/tag/v3.0.0. Use suggest_float(..., log=True) instead.\n",
            "  alpha = trial.suggest_loguniform('alpha', 0.00001, 0.01)  # L2 regularization\n",
            "/usr/local/lib/python3.10/dist-packages/sklearn/neural_network/_multilayer_perceptron.py:686: ConvergenceWarning: Stochastic Optimizer: Maximum iterations (200) reached and the optimization hasn't converged yet.\n",
            "  warnings.warn(\n",
            "[I 2024-07-19 00:02:06,461] Trial 9 finished with value: 0.9525331074838312 and parameters: {'n_layers': 3, 'n_units_l0': 47, 'n_units_l1': 65, 'n_units_l2': 34, 'learning_rate_init': 0.0020442409589199414, 'activation': 'relu', 'solver': 'sgd', 'alpha': 2.1242542267488123e-05}. Best is trial 1 with value: 0.9575377271327379.\n",
            "<ipython-input-35-e5adba4ff3e5>:6: FutureWarning: suggest_loguniform has been deprecated in v3.0.0. This feature will be removed in v6.0.0. See https://github.com/optuna/optuna/releases/tag/v3.0.0. Use suggest_float(..., log=True) instead.\n",
            "  learning_rate_init = trial.suggest_loguniform('learning_rate_init', 0.0001, 0.1)\n",
            "<ipython-input-35-e5adba4ff3e5>:9: FutureWarning: suggest_loguniform has been deprecated in v3.0.0. This feature will be removed in v6.0.0. See https://github.com/optuna/optuna/releases/tag/v3.0.0. Use suggest_float(..., log=True) instead.\n",
            "  alpha = trial.suggest_loguniform('alpha', 0.00001, 0.01)  # L2 regularization\n",
            "[I 2024-07-19 00:02:58,694] Trial 10 finished with value: 0.9538420080073914 and parameters: {'n_layers': 1, 'n_units_l0': 76, 'learning_rate_init': 0.026283443980191674, 'activation': 'relu', 'solver': 'adam', 'alpha': 8.059490526892502e-05}. Best is trial 1 with value: 0.9575377271327379.\n",
            "<ipython-input-35-e5adba4ff3e5>:6: FutureWarning: suggest_loguniform has been deprecated in v3.0.0. This feature will be removed in v6.0.0. See https://github.com/optuna/optuna/releases/tag/v3.0.0. Use suggest_float(..., log=True) instead.\n",
            "  learning_rate_init = trial.suggest_loguniform('learning_rate_init', 0.0001, 0.1)\n",
            "<ipython-input-35-e5adba4ff3e5>:9: FutureWarning: suggest_loguniform has been deprecated in v3.0.0. This feature will be removed in v6.0.0. See https://github.com/optuna/optuna/releases/tag/v3.0.0. Use suggest_float(..., log=True) instead.\n",
            "  alpha = trial.suggest_loguniform('alpha', 0.00001, 0.01)  # L2 regularization\n",
            "[I 2024-07-19 00:03:23,429] Trial 11 finished with value: 0.9388666461348938 and parameters: {'n_layers': 1, 'n_units_l0': 75, 'learning_rate_init': 0.025388621048233806, 'activation': 'relu', 'solver': 'adam', 'alpha': 0.00011711708631531027}. Best is trial 1 with value: 0.9575377271327379.\n",
            "<ipython-input-35-e5adba4ff3e5>:6: FutureWarning: suggest_loguniform has been deprecated in v3.0.0. This feature will be removed in v6.0.0. See https://github.com/optuna/optuna/releases/tag/v3.0.0. Use suggest_float(..., log=True) instead.\n",
            "  learning_rate_init = trial.suggest_loguniform('learning_rate_init', 0.0001, 0.1)\n",
            "<ipython-input-35-e5adba4ff3e5>:9: FutureWarning: suggest_loguniform has been deprecated in v3.0.0. This feature will be removed in v6.0.0. See https://github.com/optuna/optuna/releases/tag/v3.0.0. Use suggest_float(..., log=True) instead.\n",
            "  alpha = trial.suggest_loguniform('alpha', 0.00001, 0.01)  # L2 regularization\n",
            "[I 2024-07-19 00:04:13,012] Trial 12 finished with value: 0.9561133353865107 and parameters: {'n_layers': 1, 'n_units_l0': 76, 'learning_rate_init': 0.020966904525023092, 'activation': 'relu', 'solver': 'adam', 'alpha': 1.1436945258593716e-05}. Best is trial 1 with value: 0.9575377271327379.\n",
            "<ipython-input-35-e5adba4ff3e5>:6: FutureWarning: suggest_loguniform has been deprecated in v3.0.0. This feature will be removed in v6.0.0. See https://github.com/optuna/optuna/releases/tag/v3.0.0. Use suggest_float(..., log=True) instead.\n",
            "  learning_rate_init = trial.suggest_loguniform('learning_rate_init', 0.0001, 0.1)\n",
            "<ipython-input-35-e5adba4ff3e5>:9: FutureWarning: suggest_loguniform has been deprecated in v3.0.0. This feature will be removed in v6.0.0. See https://github.com/optuna/optuna/releases/tag/v3.0.0. Use suggest_float(..., log=True) instead.\n",
            "  alpha = trial.suggest_loguniform('alpha', 0.00001, 0.01)  # L2 regularization\n",
            "[I 2024-07-19 00:07:37,493] Trial 13 finished with value: 0.9564983061287342 and parameters: {'n_layers': 2, 'n_units_l0': 72, 'n_units_l1': 14, 'learning_rate_init': 0.010342323511950075, 'activation': 'relu', 'solver': 'adam', 'alpha': 1.0789555117855828e-05}. Best is trial 1 with value: 0.9575377271327379.\n",
            "<ipython-input-35-e5adba4ff3e5>:6: FutureWarning: suggest_loguniform has been deprecated in v3.0.0. This feature will be removed in v6.0.0. See https://github.com/optuna/optuna/releases/tag/v3.0.0. Use suggest_float(..., log=True) instead.\n",
            "  learning_rate_init = trial.suggest_loguniform('learning_rate_init', 0.0001, 0.1)\n",
            "<ipython-input-35-e5adba4ff3e5>:9: FutureWarning: suggest_loguniform has been deprecated in v3.0.0. This feature will be removed in v6.0.0. See https://github.com/optuna/optuna/releases/tag/v3.0.0. Use suggest_float(..., log=True) instead.\n",
            "  alpha = trial.suggest_loguniform('alpha', 0.00001, 0.01)  # L2 regularization\n",
            "[I 2024-07-19 00:09:17,113] Trial 14 finished with value: 0.9566522944256236 and parameters: {'n_layers': 2, 'n_units_l0': 66, 'n_units_l1': 12, 'learning_rate_init': 0.008334492994648108, 'activation': 'relu', 'solver': 'adam', 'alpha': 0.0013250701678813967}. Best is trial 1 with value: 0.9575377271327379.\n",
            "<ipython-input-35-e5adba4ff3e5>:6: FutureWarning: suggest_loguniform has been deprecated in v3.0.0. This feature will be removed in v6.0.0. See https://github.com/optuna/optuna/releases/tag/v3.0.0. Use suggest_float(..., log=True) instead.\n",
            "  learning_rate_init = trial.suggest_loguniform('learning_rate_init', 0.0001, 0.1)\n",
            "<ipython-input-35-e5adba4ff3e5>:9: FutureWarning: suggest_loguniform has been deprecated in v3.0.0. This feature will be removed in v6.0.0. See https://github.com/optuna/optuna/releases/tag/v3.0.0. Use suggest_float(..., log=True) instead.\n",
            "  alpha = trial.suggest_loguniform('alpha', 0.00001, 0.01)  # L2 regularization\n",
            "[I 2024-07-19 00:09:30,610] Trial 15 finished with value: 0.9410609793655682 and parameters: {'n_layers': 2, 'n_units_l0': 49, 'n_units_l1': 33, 'learning_rate_init': 0.08582008849067124, 'activation': 'relu', 'solver': 'adam', 'alpha': 0.0015494175633423226}. Best is trial 1 with value: 0.9575377271327379.\n",
            "<ipython-input-35-e5adba4ff3e5>:6: FutureWarning: suggest_loguniform has been deprecated in v3.0.0. This feature will be removed in v6.0.0. See https://github.com/optuna/optuna/releases/tag/v3.0.0. Use suggest_float(..., log=True) instead.\n",
            "  learning_rate_init = trial.suggest_loguniform('learning_rate_init', 0.0001, 0.1)\n",
            "<ipython-input-35-e5adba4ff3e5>:9: FutureWarning: suggest_loguniform has been deprecated in v3.0.0. This feature will be removed in v6.0.0. See https://github.com/optuna/optuna/releases/tag/v3.0.0. Use suggest_float(..., log=True) instead.\n",
            "  alpha = trial.suggest_loguniform('alpha', 0.00001, 0.01)  # L2 regularization\n",
            "[I 2024-07-19 00:12:56,669] Trial 16 finished with value: 0.957768709578072 and parameters: {'n_layers': 2, 'n_units_l0': 64, 'n_units_l1': 37, 'learning_rate_init': 0.006952213427166533, 'activation': 'relu', 'solver': 'adam', 'alpha': 0.0018024641669735328}. Best is trial 16 with value: 0.957768709578072.\n",
            "<ipython-input-35-e5adba4ff3e5>:6: FutureWarning: suggest_loguniform has been deprecated in v3.0.0. This feature will be removed in v6.0.0. See https://github.com/optuna/optuna/releases/tag/v3.0.0. Use suggest_float(..., log=True) instead.\n",
            "  learning_rate_init = trial.suggest_loguniform('learning_rate_init', 0.0001, 0.1)\n",
            "<ipython-input-35-e5adba4ff3e5>:9: FutureWarning: suggest_loguniform has been deprecated in v3.0.0. This feature will be removed in v6.0.0. See https://github.com/optuna/optuna/releases/tag/v3.0.0. Use suggest_float(..., log=True) instead.\n",
            "  alpha = trial.suggest_loguniform('alpha', 0.00001, 0.01)  # L2 regularization\n",
            "[I 2024-07-19 00:15:30,256] Trial 17 finished with value: 0.9561133353865107 and parameters: {'n_layers': 2, 'n_units_l0': 86, 'n_units_l1': 38, 'learning_rate_init': 0.005475104126032714, 'activation': 'relu', 'solver': 'adam', 'alpha': 0.002250759532403291}. Best is trial 16 with value: 0.957768709578072.\n",
            "<ipython-input-35-e5adba4ff3e5>:6: FutureWarning: suggest_loguniform has been deprecated in v3.0.0. This feature will be removed in v6.0.0. See https://github.com/optuna/optuna/releases/tag/v3.0.0. Use suggest_float(..., log=True) instead.\n",
            "  learning_rate_init = trial.suggest_loguniform('learning_rate_init', 0.0001, 0.1)\n",
            "<ipython-input-35-e5adba4ff3e5>:9: FutureWarning: suggest_loguniform has been deprecated in v3.0.0. This feature will be removed in v6.0.0. See https://github.com/optuna/optuna/releases/tag/v3.0.0. Use suggest_float(..., log=True) instead.\n",
            "  alpha = trial.suggest_loguniform('alpha', 0.00001, 0.01)  # L2 regularization\n",
            "[I 2024-07-19 00:15:48,413] Trial 18 finished with value: 0.8720357252848784 and parameters: {'n_layers': 2, 'n_units_l0': 42, 'n_units_l1': 44, 'learning_rate_init': 0.08215678748240456, 'activation': 'tanh', 'solver': 'adam', 'alpha': 0.0004747920762400258}. Best is trial 16 with value: 0.957768709578072.\n",
            "<ipython-input-35-e5adba4ff3e5>:6: FutureWarning: suggest_loguniform has been deprecated in v3.0.0. This feature will be removed in v6.0.0. See https://github.com/optuna/optuna/releases/tag/v3.0.0. Use suggest_float(..., log=True) instead.\n",
            "  learning_rate_init = trial.suggest_loguniform('learning_rate_init', 0.0001, 0.1)\n",
            "<ipython-input-35-e5adba4ff3e5>:9: FutureWarning: suggest_loguniform has been deprecated in v3.0.0. This feature will be removed in v6.0.0. See https://github.com/optuna/optuna/releases/tag/v3.0.0. Use suggest_float(..., log=True) instead.\n",
            "  alpha = trial.suggest_loguniform('alpha', 0.00001, 0.01)  # L2 regularization\n",
            "/usr/local/lib/python3.10/dist-packages/sklearn/neural_network/_multilayer_perceptron.py:686: ConvergenceWarning: Stochastic Optimizer: Maximum iterations (200) reached and the optimization hasn't converged yet.\n",
            "  warnings.warn(\n",
            "[I 2024-07-19 00:18:50,127] Trial 19 finished with value: 0.9464890668309208 and parameters: {'n_layers': 3, 'n_units_l0': 26, 'n_units_l1': 48, 'n_units_l2': 56, 'learning_rate_init': 0.004877466913151039, 'activation': 'relu', 'solver': 'sgd', 'alpha': 0.00018344078167095173}. Best is trial 16 with value: 0.957768709578072.\n",
            "<ipython-input-35-e5adba4ff3e5>:6: FutureWarning: suggest_loguniform has been deprecated in v3.0.0. This feature will be removed in v6.0.0. See https://github.com/optuna/optuna/releases/tag/v3.0.0. Use suggest_float(..., log=True) instead.\n",
            "  learning_rate_init = trial.suggest_loguniform('learning_rate_init', 0.0001, 0.1)\n",
            "<ipython-input-35-e5adba4ff3e5>:9: FutureWarning: suggest_loguniform has been deprecated in v3.0.0. This feature will be removed in v6.0.0. See https://github.com/optuna/optuna/releases/tag/v3.0.0. Use suggest_float(..., log=True) instead.\n",
            "  alpha = trial.suggest_loguniform('alpha', 0.00001, 0.01)  # L2 regularization\n",
            "/usr/local/lib/python3.10/dist-packages/sklearn/neural_network/_multilayer_perceptron.py:686: ConvergenceWarning: Stochastic Optimizer: Maximum iterations (200) reached and the optimization hasn't converged yet.\n",
            "  warnings.warn(\n",
            "[I 2024-07-19 00:20:58,054] Trial 20 finished with value: 0.9559593470896212 and parameters: {'n_layers': 2, 'n_units_l0': 53, 'n_units_l1': 26, 'learning_rate_init': 0.04169045396438206, 'activation': 'relu', 'solver': 'sgd', 'alpha': 0.0008668670400065009}. Best is trial 16 with value: 0.957768709578072.\n",
            "<ipython-input-35-e5adba4ff3e5>:6: FutureWarning: suggest_loguniform has been deprecated in v3.0.0. This feature will be removed in v6.0.0. See https://github.com/optuna/optuna/releases/tag/v3.0.0. Use suggest_float(..., log=True) instead.\n",
            "  learning_rate_init = trial.suggest_loguniform('learning_rate_init', 0.0001, 0.1)\n",
            "<ipython-input-35-e5adba4ff3e5>:9: FutureWarning: suggest_loguniform has been deprecated in v3.0.0. This feature will be removed in v6.0.0. See https://github.com/optuna/optuna/releases/tag/v3.0.0. Use suggest_float(..., log=True) instead.\n",
            "  alpha = trial.suggest_loguniform('alpha', 0.00001, 0.01)  # L2 regularization\n",
            "[I 2024-07-19 00:22:42,374] Trial 21 finished with value: 0.9588081305820758 and parameters: {'n_layers': 2, 'n_units_l0': 67, 'n_units_l1': 20, 'learning_rate_init': 0.010047325174366043, 'activation': 'relu', 'solver': 'adam', 'alpha': 0.0017360992714110025}. Best is trial 21 with value: 0.9588081305820758.\n",
            "<ipython-input-35-e5adba4ff3e5>:6: FutureWarning: suggest_loguniform has been deprecated in v3.0.0. This feature will be removed in v6.0.0. See https://github.com/optuna/optuna/releases/tag/v3.0.0. Use suggest_float(..., log=True) instead.\n",
            "  learning_rate_init = trial.suggest_loguniform('learning_rate_init', 0.0001, 0.1)\n",
            "<ipython-input-35-e5adba4ff3e5>:9: FutureWarning: suggest_loguniform has been deprecated in v3.0.0. This feature will be removed in v6.0.0. See https://github.com/optuna/optuna/releases/tag/v3.0.0. Use suggest_float(..., log=True) instead.\n",
            "  alpha = trial.suggest_loguniform('alpha', 0.00001, 0.01)  # L2 regularization\n",
            "[I 2024-07-19 00:23:48,007] Trial 22 finished with value: 0.9559978441638436 and parameters: {'n_layers': 2, 'n_units_l0': 65, 'n_units_l1': 22, 'learning_rate_init': 0.012831082376231519, 'activation': 'relu', 'solver': 'adam', 'alpha': 0.0030713021749283}. Best is trial 21 with value: 0.9588081305820758.\n",
            "<ipython-input-35-e5adba4ff3e5>:6: FutureWarning: suggest_loguniform has been deprecated in v3.0.0. This feature will be removed in v6.0.0. See https://github.com/optuna/optuna/releases/tag/v3.0.0. Use suggest_float(..., log=True) instead.\n",
            "  learning_rate_init = trial.suggest_loguniform('learning_rate_init', 0.0001, 0.1)\n",
            "<ipython-input-35-e5adba4ff3e5>:9: FutureWarning: suggest_loguniform has been deprecated in v3.0.0. This feature will be removed in v6.0.0. See https://github.com/optuna/optuna/releases/tag/v3.0.0. Use suggest_float(..., log=True) instead.\n",
            "  alpha = trial.suggest_loguniform('alpha', 0.00001, 0.01)  # L2 regularization\n",
            "[I 2024-07-19 00:29:01,531] Trial 23 finished with value: 0.9509932245149368 and parameters: {'n_layers': 2, 'n_units_l0': 67, 'n_units_l1': 38, 'learning_rate_init': 0.0037164550491360637, 'activation': 'relu', 'solver': 'adam', 'alpha': 0.0014228288484852863}. Best is trial 21 with value: 0.9588081305820758.\n",
            "<ipython-input-35-e5adba4ff3e5>:6: FutureWarning: suggest_loguniform has been deprecated in v3.0.0. This feature will be removed in v6.0.0. See https://github.com/optuna/optuna/releases/tag/v3.0.0. Use suggest_float(..., log=True) instead.\n",
            "  learning_rate_init = trial.suggest_loguniform('learning_rate_init', 0.0001, 0.1)\n",
            "<ipython-input-35-e5adba4ff3e5>:9: FutureWarning: suggest_loguniform has been deprecated in v3.0.0. This feature will be removed in v6.0.0. See https://github.com/optuna/optuna/releases/tag/v3.0.0. Use suggest_float(..., log=True) instead.\n",
            "  alpha = trial.suggest_loguniform('alpha', 0.00001, 0.01)  # L2 regularization\n",
            "[I 2024-07-19 00:30:53,035] Trial 24 finished with value: 0.9524176162611642 and parameters: {'n_layers': 2, 'n_units_l0': 82, 'n_units_l1': 21, 'learning_rate_init': 0.01457620002157428, 'activation': 'relu', 'solver': 'adam', 'alpha': 0.0005796736820531445}. Best is trial 21 with value: 0.9588081305820758.\n",
            "<ipython-input-35-e5adba4ff3e5>:6: FutureWarning: suggest_loguniform has been deprecated in v3.0.0. This feature will be removed in v6.0.0. See https://github.com/optuna/optuna/releases/tag/v3.0.0. Use suggest_float(..., log=True) instead.\n",
            "  learning_rate_init = trial.suggest_loguniform('learning_rate_init', 0.0001, 0.1)\n",
            "<ipython-input-35-e5adba4ff3e5>:9: FutureWarning: suggest_loguniform has been deprecated in v3.0.0. This feature will be removed in v6.0.0. See https://github.com/optuna/optuna/releases/tag/v3.0.0. Use suggest_float(..., log=True) instead.\n",
            "  alpha = trial.suggest_loguniform('alpha', 0.00001, 0.01)  # L2 regularization\n",
            "[I 2024-07-19 00:33:08,613] Trial 25 finished with value: 0.9552663997536187 and parameters: {'n_layers': 1, 'n_units_l0': 100, 'learning_rate_init': 0.006697305569489991, 'activation': 'relu', 'solver': 'adam', 'alpha': 0.003249031873429216}. Best is trial 21 with value: 0.9588081305820758.\n",
            "<ipython-input-35-e5adba4ff3e5>:6: FutureWarning: suggest_loguniform has been deprecated in v3.0.0. This feature will be removed in v6.0.0. See https://github.com/optuna/optuna/releases/tag/v3.0.0. Use suggest_float(..., log=True) instead.\n",
            "  learning_rate_init = trial.suggest_loguniform('learning_rate_init', 0.0001, 0.1)\n",
            "<ipython-input-35-e5adba4ff3e5>:9: FutureWarning: suggest_loguniform has been deprecated in v3.0.0. This feature will be removed in v6.0.0. See https://github.com/optuna/optuna/releases/tag/v3.0.0. Use suggest_float(..., log=True) instead.\n",
            "  alpha = trial.suggest_loguniform('alpha', 0.00001, 0.01)  # L2 regularization\n",
            "[I 2024-07-19 00:33:42,254] Trial 26 finished with value: 0.566676932553126 and parameters: {'n_layers': 3, 'n_units_l0': 58, 'n_units_l1': 53, 'n_units_l2': 58, 'learning_rate_init': 0.052180703944270296, 'activation': 'tanh', 'solver': 'adam', 'alpha': 0.00018145834375455058}. Best is trial 21 with value: 0.9588081305820758.\n",
            "<ipython-input-35-e5adba4ff3e5>:6: FutureWarning: suggest_loguniform has been deprecated in v3.0.0. This feature will be removed in v6.0.0. See https://github.com/optuna/optuna/releases/tag/v3.0.0. Use suggest_float(..., log=True) instead.\n",
            "  learning_rate_init = trial.suggest_loguniform('learning_rate_init', 0.0001, 0.1)\n",
            "<ipython-input-35-e5adba4ff3e5>:9: FutureWarning: suggest_loguniform has been deprecated in v3.0.0. This feature will be removed in v6.0.0. See https://github.com/optuna/optuna/releases/tag/v3.0.0. Use suggest_float(..., log=True) instead.\n",
            "  alpha = trial.suggest_loguniform('alpha', 0.00001, 0.01)  # L2 regularization\n",
            "[I 2024-07-19 00:34:12,706] Trial 27 finished with value: 0.9547274407145057 and parameters: {'n_layers': 2, 'n_units_l0': 44, 'n_units_l1': 33, 'learning_rate_init': 0.01801034075400546, 'activation': 'relu', 'solver': 'adam', 'alpha': 0.0008977727569730729}. Best is trial 21 with value: 0.9588081305820758.\n",
            "<ipython-input-35-e5adba4ff3e5>:6: FutureWarning: suggest_loguniform has been deprecated in v3.0.0. This feature will be removed in v6.0.0. See https://github.com/optuna/optuna/releases/tag/v3.0.0. Use suggest_float(..., log=True) instead.\n",
            "  learning_rate_init = trial.suggest_loguniform('learning_rate_init', 0.0001, 0.1)\n",
            "<ipython-input-35-e5adba4ff3e5>:9: FutureWarning: suggest_loguniform has been deprecated in v3.0.0. This feature will be removed in v6.0.0. See https://github.com/optuna/optuna/releases/tag/v3.0.0. Use suggest_float(..., log=True) instead.\n",
            "  alpha = trial.suggest_loguniform('alpha', 0.00001, 0.01)  # L2 regularization\n",
            "/usr/local/lib/python3.10/dist-packages/sklearn/neural_network/_multilayer_perceptron.py:686: ConvergenceWarning: Stochastic Optimizer: Maximum iterations (200) reached and the optimization hasn't converged yet.\n",
            "  warnings.warn(\n",
            "[I 2024-07-19 00:36:32,924] Trial 28 finished with value: 0.9572682476131814 and parameters: {'n_layers': 2, 'n_units_l0': 53, 'n_units_l1': 43, 'learning_rate_init': 0.03979849972384862, 'activation': 'relu', 'solver': 'sgd', 'alpha': 4.794958655771459e-05}. Best is trial 21 with value: 0.9588081305820758.\n",
            "<ipython-input-35-e5adba4ff3e5>:6: FutureWarning: suggest_loguniform has been deprecated in v3.0.0. This feature will be removed in v6.0.0. See https://github.com/optuna/optuna/releases/tag/v3.0.0. Use suggest_float(..., log=True) instead.\n",
            "  learning_rate_init = trial.suggest_loguniform('learning_rate_init', 0.0001, 0.1)\n",
            "<ipython-input-35-e5adba4ff3e5>:9: FutureWarning: suggest_loguniform has been deprecated in v3.0.0. This feature will be removed in v6.0.0. See https://github.com/optuna/optuna/releases/tag/v3.0.0. Use suggest_float(..., log=True) instead.\n",
            "  alpha = trial.suggest_loguniform('alpha', 0.00001, 0.01)  # L2 regularization\n",
            "/usr/local/lib/python3.10/dist-packages/sklearn/neural_network/_multilayer_perceptron.py:686: ConvergenceWarning: Stochastic Optimizer: Maximum iterations (200) reached and the optimization hasn't converged yet.\n",
            "  warnings.warn(\n",
            "[I 2024-07-19 00:39:54,832] Trial 29 finished with value: 0.9422543886664614 and parameters: {'n_layers': 1, 'n_units_l0': 83, 'learning_rate_init': 0.003475523745738091, 'activation': 'tanh', 'solver': 'sgd', 'alpha': 0.004889162633841905}. Best is trial 21 with value: 0.9588081305820758.\n",
            "<ipython-input-35-e5adba4ff3e5>:6: FutureWarning: suggest_loguniform has been deprecated in v3.0.0. This feature will be removed in v6.0.0. See https://github.com/optuna/optuna/releases/tag/v3.0.0. Use suggest_float(..., log=True) instead.\n",
            "  learning_rate_init = trial.suggest_loguniform('learning_rate_init', 0.0001, 0.1)\n",
            "<ipython-input-35-e5adba4ff3e5>:9: FutureWarning: suggest_loguniform has been deprecated in v3.0.0. This feature will be removed in v6.0.0. See https://github.com/optuna/optuna/releases/tag/v3.0.0. Use suggest_float(..., log=True) instead.\n",
            "  alpha = trial.suggest_loguniform('alpha', 0.00001, 0.01)  # L2 regularization\n",
            "[I 2024-07-19 00:41:56,606] Trial 30 finished with value: 0.9544194641207269 and parameters: {'n_layers': 2, 'n_units_l0': 69, 'n_units_l1': 17, 'learning_rate_init': 0.008479008497178708, 'activation': 'relu', 'solver': 'adam', 'alpha': 0.00040019899544587004}. Best is trial 21 with value: 0.9588081305820758.\n",
            "<ipython-input-35-e5adba4ff3e5>:6: FutureWarning: suggest_loguniform has been deprecated in v3.0.0. This feature will be removed in v6.0.0. See https://github.com/optuna/optuna/releases/tag/v3.0.0. Use suggest_float(..., log=True) instead.\n",
            "  learning_rate_init = trial.suggest_loguniform('learning_rate_init', 0.0001, 0.1)\n",
            "<ipython-input-35-e5adba4ff3e5>:9: FutureWarning: suggest_loguniform has been deprecated in v3.0.0. This feature will be removed in v6.0.0. See https://github.com/optuna/optuna/releases/tag/v3.0.0. Use suggest_float(..., log=True) instead.\n",
            "  alpha = trial.suggest_loguniform('alpha', 0.00001, 0.01)  # L2 regularization\n",
            "/usr/local/lib/python3.10/dist-packages/sklearn/neural_network/_multilayer_perceptron.py:686: ConvergenceWarning: Stochastic Optimizer: Maximum iterations (200) reached and the optimization hasn't converged yet.\n",
            "  warnings.warn(\n",
            "[I 2024-07-19 00:44:12,533] Trial 31 finished with value: 0.9558053587927318 and parameters: {'n_layers': 2, 'n_units_l0': 52, 'n_units_l1': 44, 'learning_rate_init': 0.04162146654317591, 'activation': 'relu', 'solver': 'sgd', 'alpha': 4.4197140696612256e-05}. Best is trial 21 with value: 0.9588081305820758.\n",
            "<ipython-input-35-e5adba4ff3e5>:6: FutureWarning: suggest_loguniform has been deprecated in v3.0.0. This feature will be removed in v6.0.0. See https://github.com/optuna/optuna/releases/tag/v3.0.0. Use suggest_float(..., log=True) instead.\n",
            "  learning_rate_init = trial.suggest_loguniform('learning_rate_init', 0.0001, 0.1)\n",
            "<ipython-input-35-e5adba4ff3e5>:9: FutureWarning: suggest_loguniform has been deprecated in v3.0.0. This feature will be removed in v6.0.0. See https://github.com/optuna/optuna/releases/tag/v3.0.0. Use suggest_float(..., log=True) instead.\n",
            "  alpha = trial.suggest_loguniform('alpha', 0.00001, 0.01)  # L2 regularization\n",
            "[I 2024-07-19 00:46:24,234] Trial 32 finished with value: 0.9500692947336002 and parameters: {'n_layers': 2, 'n_units_l0': 61, 'n_units_l1': 32, 'learning_rate_init': 0.03690522318938718, 'activation': 'relu', 'solver': 'sgd', 'alpha': 0.00011075239250673199}. Best is trial 21 with value: 0.9588081305820758.\n",
            "<ipython-input-35-e5adba4ff3e5>:6: FutureWarning: suggest_loguniform has been deprecated in v3.0.0. This feature will be removed in v6.0.0. See https://github.com/optuna/optuna/releases/tag/v3.0.0. Use suggest_float(..., log=True) instead.\n",
            "  learning_rate_init = trial.suggest_loguniform('learning_rate_init', 0.0001, 0.1)\n",
            "<ipython-input-35-e5adba4ff3e5>:9: FutureWarning: suggest_loguniform has been deprecated in v3.0.0. This feature will be removed in v6.0.0. See https://github.com/optuna/optuna/releases/tag/v3.0.0. Use suggest_float(..., log=True) instead.\n",
            "  alpha = trial.suggest_loguniform('alpha', 0.00001, 0.01)  # L2 regularization\n",
            "[I 2024-07-19 00:48:52,725] Trial 33 finished with value: 0.9469510317215891 and parameters: {'n_layers': 2, 'n_units_l0': 54, 'n_units_l1': 56, 'learning_rate_init': 0.010915818659892728, 'activation': 'relu', 'solver': 'sgd', 'alpha': 2.417744363139415e-05}. Best is trial 21 with value: 0.9588081305820758.\n",
            "<ipython-input-35-e5adba4ff3e5>:6: FutureWarning: suggest_loguniform has been deprecated in v3.0.0. This feature will be removed in v6.0.0. See https://github.com/optuna/optuna/releases/tag/v3.0.0. Use suggest_float(..., log=True) instead.\n",
            "  learning_rate_init = trial.suggest_loguniform('learning_rate_init', 0.0001, 0.1)\n",
            "<ipython-input-35-e5adba4ff3e5>:9: FutureWarning: suggest_loguniform has been deprecated in v3.0.0. This feature will be removed in v6.0.0. See https://github.com/optuna/optuna/releases/tag/v3.0.0. Use suggest_float(..., log=True) instead.\n",
            "  alpha = trial.suggest_loguniform('alpha', 0.00001, 0.01)  # L2 regularization\n",
            "[I 2024-07-19 00:50:55,828] Trial 34 finished with value: 0.9568447797967354 and parameters: {'n_layers': 2, 'n_units_l0': 39, 'n_units_l1': 38, 'learning_rate_init': 0.06174932488990881, 'activation': 'relu', 'solver': 'sgd', 'alpha': 4.977739142586865e-05}. Best is trial 21 with value: 0.9588081305820758.\n",
            "<ipython-input-35-e5adba4ff3e5>:6: FutureWarning: suggest_loguniform has been deprecated in v3.0.0. This feature will be removed in v6.0.0. See https://github.com/optuna/optuna/releases/tag/v3.0.0. Use suggest_float(..., log=True) instead.\n",
            "  learning_rate_init = trial.suggest_loguniform('learning_rate_init', 0.0001, 0.1)\n",
            "<ipython-input-35-e5adba4ff3e5>:9: FutureWarning: suggest_loguniform has been deprecated in v3.0.0. This feature will be removed in v6.0.0. See https://github.com/optuna/optuna/releases/tag/v3.0.0. Use suggest_float(..., log=True) instead.\n",
            "  alpha = trial.suggest_loguniform('alpha', 0.00001, 0.01)  # L2 regularization\n",
            "/usr/local/lib/python3.10/dist-packages/sklearn/neural_network/_multilayer_perceptron.py:686: ConvergenceWarning: Stochastic Optimizer: Maximum iterations (200) reached and the optimization hasn't converged yet.\n",
            "  warnings.warn(\n",
            "[I 2024-07-19 00:54:59,609] Trial 35 finished with value: 0.9499538035109332 and parameters: {'n_layers': 3, 'n_units_l0': 63, 'n_units_l1': 46, 'n_units_l2': 98, 'learning_rate_init': 0.02869666868694586, 'activation': 'relu', 'solver': 'sgd', 'alpha': 0.009470908721381108}. Best is trial 21 with value: 0.9588081305820758.\n",
            "<ipython-input-35-e5adba4ff3e5>:6: FutureWarning: suggest_loguniform has been deprecated in v3.0.0. This feature will be removed in v6.0.0. See https://github.com/optuna/optuna/releases/tag/v3.0.0. Use suggest_float(..., log=True) instead.\n",
            "  learning_rate_init = trial.suggest_loguniform('learning_rate_init', 0.0001, 0.1)\n",
            "<ipython-input-35-e5adba4ff3e5>:9: FutureWarning: suggest_loguniform has been deprecated in v3.0.0. This feature will be removed in v6.0.0. See https://github.com/optuna/optuna/releases/tag/v3.0.0. Use suggest_float(..., log=True) instead.\n",
            "  alpha = trial.suggest_loguniform('alpha', 0.00001, 0.01)  # L2 regularization\n",
            "/usr/local/lib/python3.10/dist-packages/sklearn/neural_network/_multilayer_perceptron.py:686: ConvergenceWarning: Stochastic Optimizer: Maximum iterations (200) reached and the optimization hasn't converged yet.\n",
            "  warnings.warn(\n",
            "[I 2024-07-19 00:59:05,375] Trial 36 finished with value: 0.9572682476131814 and parameters: {'n_layers': 2, 'n_units_l0': 59, 'n_units_l1': 27, 'learning_rate_init': 0.017170880898408, 'activation': 'tanh', 'solver': 'sgd', 'alpha': 0.00022448944578049102}. Best is trial 21 with value: 0.9588081305820758.\n",
            "<ipython-input-35-e5adba4ff3e5>:6: FutureWarning: suggest_loguniform has been deprecated in v3.0.0. This feature will be removed in v6.0.0. See https://github.com/optuna/optuna/releases/tag/v3.0.0. Use suggest_float(..., log=True) instead.\n",
            "  learning_rate_init = trial.suggest_loguniform('learning_rate_init', 0.0001, 0.1)\n",
            "<ipython-input-35-e5adba4ff3e5>:9: FutureWarning: suggest_loguniform has been deprecated in v3.0.0. This feature will be removed in v6.0.0. See https://github.com/optuna/optuna/releases/tag/v3.0.0. Use suggest_float(..., log=True) instead.\n",
            "  alpha = trial.suggest_loguniform('alpha', 0.00001, 0.01)  # L2 regularization\n",
            "/usr/local/lib/python3.10/dist-packages/sklearn/neural_network/_multilayer_perceptron.py:686: ConvergenceWarning: Stochastic Optimizer: Maximum iterations (200) reached and the optimization hasn't converged yet.\n",
            "  warnings.warn(\n",
            "[I 2024-07-19 00:59:48,830] Trial 37 finished with value: 0.8952109639667385 and parameters: {'n_layers': 1, 'n_units_l0': 32, 'learning_rate_init': 0.0001539016727345775, 'activation': 'relu', 'solver': 'sgd', 'alpha': 0.00010903919406902104}. Best is trial 21 with value: 0.9588081305820758.\n",
            "<ipython-input-35-e5adba4ff3e5>:6: FutureWarning: suggest_loguniform has been deprecated in v3.0.0. This feature will be removed in v6.0.0. See https://github.com/optuna/optuna/releases/tag/v3.0.0. Use suggest_float(..., log=True) instead.\n",
            "  learning_rate_init = trial.suggest_loguniform('learning_rate_init', 0.0001, 0.1)\n",
            "<ipython-input-35-e5adba4ff3e5>:9: FutureWarning: suggest_loguniform has been deprecated in v3.0.0. This feature will be removed in v6.0.0. See https://github.com/optuna/optuna/releases/tag/v3.0.0. Use suggest_float(..., log=True) instead.\n",
            "  alpha = trial.suggest_loguniform('alpha', 0.00001, 0.01)  # L2 regularization\n",
            "/usr/local/lib/python3.10/dist-packages/sklearn/neural_network/_multilayer_perceptron.py:686: ConvergenceWarning: Stochastic Optimizer: Maximum iterations (200) reached and the optimization hasn't converged yet.\n",
            "  warnings.warn(\n",
            "[I 2024-07-19 01:02:40,863] Trial 38 finished with value: 0.9335540498922081 and parameters: {'n_layers': 2, 'n_units_l0': 70, 'n_units_l1': 51, 'learning_rate_init': 0.00025995119113642783, 'activation': 'relu', 'solver': 'sgd', 'alpha': 0.0022392928757053497}. Best is trial 21 with value: 0.9588081305820758.\n",
            "<ipython-input-35-e5adba4ff3e5>:6: FutureWarning: suggest_loguniform has been deprecated in v3.0.0. This feature will be removed in v6.0.0. See https://github.com/optuna/optuna/releases/tag/v3.0.0. Use suggest_float(..., log=True) instead.\n",
            "  learning_rate_init = trial.suggest_loguniform('learning_rate_init', 0.0001, 0.1)\n",
            "<ipython-input-35-e5adba4ff3e5>:9: FutureWarning: suggest_loguniform has been deprecated in v3.0.0. This feature will be removed in v6.0.0. See https://github.com/optuna/optuna/releases/tag/v3.0.0. Use suggest_float(..., log=True) instead.\n",
            "  alpha = trial.suggest_loguniform('alpha', 0.00001, 0.01)  # L2 regularization\n",
            "/usr/local/lib/python3.10/dist-packages/sklearn/neural_network/_multilayer_perceptron.py:686: ConvergenceWarning: Stochastic Optimizer: Maximum iterations (200) reached and the optimization hasn't converged yet.\n",
            "  warnings.warn(\n",
            "[I 2024-07-19 01:08:50,413] Trial 39 finished with value: 0.9503772713273791 and parameters: {'n_layers': 2, 'n_units_l0': 56, 'n_units_l1': 78, 'learning_rate_init': 0.0021508781702841576, 'activation': 'tanh', 'solver': 'sgd', 'alpha': 0.00029562566730336647}. Best is trial 21 with value: 0.9588081305820758.\n",
            "<ipython-input-35-e5adba4ff3e5>:6: FutureWarning: suggest_loguniform has been deprecated in v3.0.0. This feature will be removed in v6.0.0. See https://github.com/optuna/optuna/releases/tag/v3.0.0. Use suggest_float(..., log=True) instead.\n",
            "  learning_rate_init = trial.suggest_loguniform('learning_rate_init', 0.0001, 0.1)\n",
            "<ipython-input-35-e5adba4ff3e5>:9: FutureWarning: suggest_loguniform has been deprecated in v3.0.0. This feature will be removed in v6.0.0. See https://github.com/optuna/optuna/releases/tag/v3.0.0. Use suggest_float(..., log=True) instead.\n",
            "  alpha = trial.suggest_loguniform('alpha', 0.00001, 0.01)  # L2 regularization\n",
            "/usr/local/lib/python3.10/dist-packages/sklearn/neural_network/_multilayer_perceptron.py:686: ConvergenceWarning: Stochastic Optimizer: Maximum iterations (200) reached and the optimization hasn't converged yet.\n",
            "  warnings.warn(\n",
            "[I 2024-07-19 01:12:14,713] Trial 40 finished with value: 0.9483754234678164 and parameters: {'n_layers': 2, 'n_units_l0': 51, 'n_units_l1': 100, 'learning_rate_init': 0.0009192058031602082, 'activation': 'relu', 'solver': 'sgd', 'alpha': 7.125894034566469e-05}. Best is trial 21 with value: 0.9588081305820758.\n",
            "<ipython-input-35-e5adba4ff3e5>:6: FutureWarning: suggest_loguniform has been deprecated in v3.0.0. This feature will be removed in v6.0.0. See https://github.com/optuna/optuna/releases/tag/v3.0.0. Use suggest_float(..., log=True) instead.\n",
            "  learning_rate_init = trial.suggest_loguniform('learning_rate_init', 0.0001, 0.1)\n",
            "<ipython-input-35-e5adba4ff3e5>:9: FutureWarning: suggest_loguniform has been deprecated in v3.0.0. This feature will be removed in v6.0.0. See https://github.com/optuna/optuna/releases/tag/v3.0.0. Use suggest_float(..., log=True) instead.\n",
            "  alpha = trial.suggest_loguniform('alpha', 0.00001, 0.01)  # L2 regularization\n",
            "/usr/local/lib/python3.10/dist-packages/sklearn/neural_network/_multilayer_perceptron.py:686: ConvergenceWarning: Stochastic Optimizer: Maximum iterations (200) reached and the optimization hasn't converged yet.\n",
            "  warnings.warn(\n",
            "[I 2024-07-19 01:16:48,790] Trial 41 finished with value: 0.9574607329842932 and parameters: {'n_layers': 2, 'n_units_l0': 59, 'n_units_l1': 27, 'learning_rate_init': 0.017605581781640067, 'activation': 'tanh', 'solver': 'sgd', 'alpha': 0.00021426547223491024}. Best is trial 21 with value: 0.9588081305820758.\n",
            "<ipython-input-35-e5adba4ff3e5>:6: FutureWarning: suggest_loguniform has been deprecated in v3.0.0. This feature will be removed in v6.0.0. See https://github.com/optuna/optuna/releases/tag/v3.0.0. Use suggest_float(..., log=True) instead.\n",
            "  learning_rate_init = trial.suggest_loguniform('learning_rate_init', 0.0001, 0.1)\n",
            "<ipython-input-35-e5adba4ff3e5>:9: FutureWarning: suggest_loguniform has been deprecated in v3.0.0. This feature will be removed in v6.0.0. See https://github.com/optuna/optuna/releases/tag/v3.0.0. Use suggest_float(..., log=True) instead.\n",
            "  alpha = trial.suggest_loguniform('alpha', 0.00001, 0.01)  # L2 regularization\n",
            "/usr/local/lib/python3.10/dist-packages/sklearn/neural_network/_multilayer_perceptron.py:686: ConvergenceWarning: Stochastic Optimizer: Maximum iterations (200) reached and the optimization hasn't converged yet.\n",
            "  warnings.warn(\n",
            "[I 2024-07-19 01:20:51,769] Trial 42 finished with value: 0.9508777332922698 and parameters: {'n_layers': 2, 'n_units_l0': 46, 'n_units_l1': 39, 'learning_rate_init': 0.0073125673976789035, 'activation': 'tanh', 'solver': 'sgd', 'alpha': 0.00016041474716498743}. Best is trial 21 with value: 0.9588081305820758.\n",
            "<ipython-input-35-e5adba4ff3e5>:6: FutureWarning: suggest_loguniform has been deprecated in v3.0.0. This feature will be removed in v6.0.0. See https://github.com/optuna/optuna/releases/tag/v3.0.0. Use suggest_float(..., log=True) instead.\n",
            "  learning_rate_init = trial.suggest_loguniform('learning_rate_init', 0.0001, 0.1)\n",
            "<ipython-input-35-e5adba4ff3e5>:9: FutureWarning: suggest_loguniform has been deprecated in v3.0.0. This feature will be removed in v6.0.0. See https://github.com/optuna/optuna/releases/tag/v3.0.0. Use suggest_float(..., log=True) instead.\n",
            "  alpha = trial.suggest_loguniform('alpha', 0.00001, 0.01)  # L2 regularization\n",
            "/usr/local/lib/python3.10/dist-packages/sklearn/neural_network/_multilayer_perceptron.py:686: ConvergenceWarning: Stochastic Optimizer: Maximum iterations (200) reached and the optimization hasn't converged yet.\n",
            "  warnings.warn(\n",
            "[I 2024-07-19 01:24:40,474] Trial 43 finished with value: 0.9518401601478288 and parameters: {'n_layers': 2, 'n_units_l0': 62, 'n_units_l1': 20, 'learning_rate_init': 0.028666238679152464, 'activation': 'tanh', 'solver': 'sgd', 'alpha': 3.8893075614946706e-05}. Best is trial 21 with value: 0.9588081305820758.\n",
            "<ipython-input-35-e5adba4ff3e5>:6: FutureWarning: suggest_loguniform has been deprecated in v3.0.0. This feature will be removed in v6.0.0. See https://github.com/optuna/optuna/releases/tag/v3.0.0. Use suggest_float(..., log=True) instead.\n",
            "  learning_rate_init = trial.suggest_loguniform('learning_rate_init', 0.0001, 0.1)\n",
            "<ipython-input-35-e5adba4ff3e5>:9: FutureWarning: suggest_loguniform has been deprecated in v3.0.0. This feature will be removed in v6.0.0. See https://github.com/optuna/optuna/releases/tag/v3.0.0. Use suggest_float(..., log=True) instead.\n",
            "  alpha = trial.suggest_loguniform('alpha', 0.00001, 0.01)  # L2 regularization\n",
            "/usr/local/lib/python3.10/dist-packages/sklearn/neural_network/_multilayer_perceptron.py:686: ConvergenceWarning: Stochastic Optimizer: Maximum iterations (200) reached and the optimization hasn't converged yet.\n",
            "  warnings.warn(\n",
            "[I 2024-07-19 01:29:23,891] Trial 44 finished with value: 0.9526485987064983 and parameters: {'n_layers': 2, 'n_units_l0': 79, 'n_units_l1': 30, 'learning_rate_init': 0.012714279751981968, 'activation': 'tanh', 'solver': 'sgd', 'alpha': 0.00036650115183336807}. Best is trial 21 with value: 0.9588081305820758.\n",
            "<ipython-input-35-e5adba4ff3e5>:6: FutureWarning: suggest_loguniform has been deprecated in v3.0.0. This feature will be removed in v6.0.0. See https://github.com/optuna/optuna/releases/tag/v3.0.0. Use suggest_float(..., log=True) instead.\n",
            "  learning_rate_init = trial.suggest_loguniform('learning_rate_init', 0.0001, 0.1)\n",
            "<ipython-input-35-e5adba4ff3e5>:9: FutureWarning: suggest_loguniform has been deprecated in v3.0.0. This feature will be removed in v6.0.0. See https://github.com/optuna/optuna/releases/tag/v3.0.0. Use suggest_float(..., log=True) instead.\n",
            "  alpha = trial.suggest_loguniform('alpha', 0.00001, 0.01)  # L2 regularization\n",
            "/usr/local/lib/python3.10/dist-packages/sklearn/neural_network/_multilayer_perceptron.py:686: ConvergenceWarning: Stochastic Optimizer: Maximum iterations (200) reached and the optimization hasn't converged yet.\n",
            "  warnings.warn(\n",
            "[I 2024-07-19 01:35:16,438] Trial 45 finished with value: 0.9536495226362797 and parameters: {'n_layers': 2, 'n_units_l0': 74, 'n_units_l1': 60, 'learning_rate_init': 0.02075835205014517, 'activation': 'tanh', 'solver': 'sgd', 'alpha': 0.000844725470696866}. Best is trial 21 with value: 0.9588081305820758.\n",
            "<ipython-input-35-e5adba4ff3e5>:6: FutureWarning: suggest_loguniform has been deprecated in v3.0.0. This feature will be removed in v6.0.0. See https://github.com/optuna/optuna/releases/tag/v3.0.0. Use suggest_float(..., log=True) instead.\n",
            "  learning_rate_init = trial.suggest_loguniform('learning_rate_init', 0.0001, 0.1)\n",
            "<ipython-input-35-e5adba4ff3e5>:9: FutureWarning: suggest_loguniform has been deprecated in v3.0.0. This feature will be removed in v6.0.0. See https://github.com/optuna/optuna/releases/tag/v3.0.0. Use suggest_float(..., log=True) instead.\n",
            "  alpha = trial.suggest_loguniform('alpha', 0.00001, 0.01)  # L2 regularization\n",
            "[I 2024-07-19 01:38:42,535] Trial 46 finished with value: 0.9561903295349553 and parameters: {'n_layers': 3, 'n_units_l0': 57, 'n_units_l1': 25, 'n_units_l2': 10, 'learning_rate_init': 0.0054358063926854905, 'activation': 'relu', 'solver': 'adam', 'alpha': 6.554353222323443e-05}. Best is trial 21 with value: 0.9588081305820758.\n",
            "<ipython-input-35-e5adba4ff3e5>:6: FutureWarning: suggest_loguniform has been deprecated in v3.0.0. This feature will be removed in v6.0.0. See https://github.com/optuna/optuna/releases/tag/v3.0.0. Use suggest_float(..., log=True) instead.\n",
            "  learning_rate_init = trial.suggest_loguniform('learning_rate_init', 0.0001, 0.1)\n",
            "<ipython-input-35-e5adba4ff3e5>:9: FutureWarning: suggest_loguniform has been deprecated in v3.0.0. This feature will be removed in v6.0.0. See https://github.com/optuna/optuna/releases/tag/v3.0.0. Use suggest_float(..., log=True) instead.\n",
            "  alpha = trial.suggest_loguniform('alpha', 0.00001, 0.01)  # L2 regularization\n",
            "/usr/local/lib/python3.10/dist-packages/sklearn/neural_network/_multilayer_perceptron.py:686: ConvergenceWarning: Stochastic Optimizer: Maximum iterations (200) reached and the optimization hasn't converged yet.\n",
            "  warnings.warn(\n",
            "[I 2024-07-19 01:43:24,865] Trial 47 finished with value: 0.9527255928549431 and parameters: {'n_layers': 2, 'n_units_l0': 65, 'n_units_l1': 41, 'learning_rate_init': 0.009821391758472317, 'activation': 'tanh', 'solver': 'sgd', 'alpha': 0.005550314608747177}. Best is trial 21 with value: 0.9588081305820758.\n",
            "<ipython-input-35-e5adba4ff3e5>:6: FutureWarning: suggest_loguniform has been deprecated in v3.0.0. This feature will be removed in v6.0.0. See https://github.com/optuna/optuna/releases/tag/v3.0.0. Use suggest_float(..., log=True) instead.\n",
            "  learning_rate_init = trial.suggest_loguniform('learning_rate_init', 0.0001, 0.1)\n",
            "<ipython-input-35-e5adba4ff3e5>:9: FutureWarning: suggest_loguniform has been deprecated in v3.0.0. This feature will be removed in v6.0.0. See https://github.com/optuna/optuna/releases/tag/v3.0.0. Use suggest_float(..., log=True) instead.\n",
            "  alpha = trial.suggest_loguniform('alpha', 0.00001, 0.01)  # L2 regularization\n",
            "[I 2024-07-19 01:44:20,174] Trial 48 finished with value: 0.9564213119802895 and parameters: {'n_layers': 2, 'n_units_l0': 48, 'n_units_l1': 10, 'learning_rate_init': 0.0015702921902653443, 'activation': 'relu', 'solver': 'adam', 'alpha': 1.5685246883246333e-05}. Best is trial 21 with value: 0.9588081305820758.\n",
            "<ipython-input-35-e5adba4ff3e5>:6: FutureWarning: suggest_loguniform has been deprecated in v3.0.0. This feature will be removed in v6.0.0. See https://github.com/optuna/optuna/releases/tag/v3.0.0. Use suggest_float(..., log=True) instead.\n",
            "  learning_rate_init = trial.suggest_loguniform('learning_rate_init', 0.0001, 0.1)\n",
            "<ipython-input-35-e5adba4ff3e5>:9: FutureWarning: suggest_loguniform has been deprecated in v3.0.0. This feature will be removed in v6.0.0. See https://github.com/optuna/optuna/releases/tag/v3.0.0. Use suggest_float(..., log=True) instead.\n",
            "  alpha = trial.suggest_loguniform('alpha', 0.00001, 0.01)  # L2 regularization\n",
            "[I 2024-07-19 01:44:40,561] Trial 49 finished with value: 0.9426393594086849 and parameters: {'n_layers': 2, 'n_units_l0': 71, 'n_units_l1': 16, 'learning_rate_init': 0.062138738137324755, 'activation': 'relu', 'solver': 'adam', 'alpha': 8.685591172375022e-05}. Best is trial 21 with value: 0.9588081305820758.\n"
          ]
        }
      ]
    },
    {
      "cell_type": "code",
      "source": [
        "# Best hyperparameters\n",
        "best_params = study.best_params\n",
        "print(f'Best Hyperparameters: {best_params}')"
      ],
      "metadata": {
        "colab": {
          "base_uri": "https://localhost:8080/"
        },
        "id": "YszNCwbvJ2lO",
        "outputId": "911af68b-1b4a-4aac-b37d-899b90bd32d4"
      },
      "execution_count": 37,
      "outputs": [
        {
          "output_type": "stream",
          "name": "stdout",
          "text": [
            "Best Hyperparameters: {'n_layers': 2, 'n_units_l0': 67, 'n_units_l1': 20, 'learning_rate_init': 0.010047325174366043, 'activation': 'relu', 'solver': 'adam', 'alpha': 0.0017360992714110025}\n"
          ]
        }
      ]
    },
    {
      "cell_type": "code",
      "source": [
        "best_mlp = MLPClassifier(\n",
        "    hidden_layer_sizes=tuple(best_params[f'n_units_l{i}'] for i in range(best_params['n_layers'])),\n",
        "    learning_rate_init=best_params['learning_rate_init'],\n",
        "    activation=best_params['activation'],\n",
        "    solver=best_params['solver'],\n",
        "    alpha=best_params['alpha'],\n",
        "    max_iter=200,\n",
        "    random_state=42\n",
        ")"
      ],
      "metadata": {
        "id": "qkvLnRzYJ8Jh"
      },
      "execution_count": 38,
      "outputs": []
    },
    {
      "cell_type": "code",
      "source": [
        "best_mlp.fit(X_train, y_train)"
      ],
      "metadata": {
        "colab": {
          "base_uri": "https://localhost:8080/",
          "height": 92
        },
        "id": "ALx_Bd6aJ9EY",
        "outputId": "71f6cad2-126a-49ee-d9af-a2c085650fe9"
      },
      "execution_count": 39,
      "outputs": [
        {
          "output_type": "execute_result",
          "data": {
            "text/plain": [
              "MLPClassifier(alpha=0.0017360992714110025, hidden_layer_sizes=(67, 20),\n",
              "              learning_rate_init=0.010047325174366043, random_state=42)"
            ],
            "text/html": [
              "<style>#sk-container-id-1 {color: black;background-color: white;}#sk-container-id-1 pre{padding: 0;}#sk-container-id-1 div.sk-toggleable {background-color: white;}#sk-container-id-1 label.sk-toggleable__label {cursor: pointer;display: block;width: 100%;margin-bottom: 0;padding: 0.3em;box-sizing: border-box;text-align: center;}#sk-container-id-1 label.sk-toggleable__label-arrow:before {content: \"▸\";float: left;margin-right: 0.25em;color: #696969;}#sk-container-id-1 label.sk-toggleable__label-arrow:hover:before {color: black;}#sk-container-id-1 div.sk-estimator:hover label.sk-toggleable__label-arrow:before {color: black;}#sk-container-id-1 div.sk-toggleable__content {max-height: 0;max-width: 0;overflow: hidden;text-align: left;background-color: #f0f8ff;}#sk-container-id-1 div.sk-toggleable__content pre {margin: 0.2em;color: black;border-radius: 0.25em;background-color: #f0f8ff;}#sk-container-id-1 input.sk-toggleable__control:checked~div.sk-toggleable__content {max-height: 200px;max-width: 100%;overflow: auto;}#sk-container-id-1 input.sk-toggleable__control:checked~label.sk-toggleable__label-arrow:before {content: \"▾\";}#sk-container-id-1 div.sk-estimator input.sk-toggleable__control:checked~label.sk-toggleable__label {background-color: #d4ebff;}#sk-container-id-1 div.sk-label input.sk-toggleable__control:checked~label.sk-toggleable__label {background-color: #d4ebff;}#sk-container-id-1 input.sk-hidden--visually {border: 0;clip: rect(1px 1px 1px 1px);clip: rect(1px, 1px, 1px, 1px);height: 1px;margin: -1px;overflow: hidden;padding: 0;position: absolute;width: 1px;}#sk-container-id-1 div.sk-estimator {font-family: monospace;background-color: #f0f8ff;border: 1px dotted black;border-radius: 0.25em;box-sizing: border-box;margin-bottom: 0.5em;}#sk-container-id-1 div.sk-estimator:hover {background-color: #d4ebff;}#sk-container-id-1 div.sk-parallel-item::after {content: \"\";width: 100%;border-bottom: 1px solid gray;flex-grow: 1;}#sk-container-id-1 div.sk-label:hover label.sk-toggleable__label {background-color: #d4ebff;}#sk-container-id-1 div.sk-serial::before {content: \"\";position: absolute;border-left: 1px solid gray;box-sizing: border-box;top: 0;bottom: 0;left: 50%;z-index: 0;}#sk-container-id-1 div.sk-serial {display: flex;flex-direction: column;align-items: center;background-color: white;padding-right: 0.2em;padding-left: 0.2em;position: relative;}#sk-container-id-1 div.sk-item {position: relative;z-index: 1;}#sk-container-id-1 div.sk-parallel {display: flex;align-items: stretch;justify-content: center;background-color: white;position: relative;}#sk-container-id-1 div.sk-item::before, #sk-container-id-1 div.sk-parallel-item::before {content: \"\";position: absolute;border-left: 1px solid gray;box-sizing: border-box;top: 0;bottom: 0;left: 50%;z-index: -1;}#sk-container-id-1 div.sk-parallel-item {display: flex;flex-direction: column;z-index: 1;position: relative;background-color: white;}#sk-container-id-1 div.sk-parallel-item:first-child::after {align-self: flex-end;width: 50%;}#sk-container-id-1 div.sk-parallel-item:last-child::after {align-self: flex-start;width: 50%;}#sk-container-id-1 div.sk-parallel-item:only-child::after {width: 0;}#sk-container-id-1 div.sk-dashed-wrapped {border: 1px dashed gray;margin: 0 0.4em 0.5em 0.4em;box-sizing: border-box;padding-bottom: 0.4em;background-color: white;}#sk-container-id-1 div.sk-label label {font-family: monospace;font-weight: bold;display: inline-block;line-height: 1.2em;}#sk-container-id-1 div.sk-label-container {text-align: center;}#sk-container-id-1 div.sk-container {/* jupyter's `normalize.less` sets `[hidden] { display: none; }` but bootstrap.min.css set `[hidden] { display: none !important; }` so we also need the `!important` here to be able to override the default hidden behavior on the sphinx rendered scikit-learn.org. See: https://github.com/scikit-learn/scikit-learn/issues/21755 */display: inline-block !important;position: relative;}#sk-container-id-1 div.sk-text-repr-fallback {display: none;}</style><div id=\"sk-container-id-1\" class=\"sk-top-container\"><div class=\"sk-text-repr-fallback\"><pre>MLPClassifier(alpha=0.0017360992714110025, hidden_layer_sizes=(67, 20),\n",
              "              learning_rate_init=0.010047325174366043, random_state=42)</pre><b>In a Jupyter environment, please rerun this cell to show the HTML representation or trust the notebook. <br />On GitHub, the HTML representation is unable to render, please try loading this page with nbviewer.org.</b></div><div class=\"sk-container\" hidden><div class=\"sk-item\"><div class=\"sk-estimator sk-toggleable\"><input class=\"sk-toggleable__control sk-hidden--visually\" id=\"sk-estimator-id-1\" type=\"checkbox\" checked><label for=\"sk-estimator-id-1\" class=\"sk-toggleable__label sk-toggleable__label-arrow\">MLPClassifier</label><div class=\"sk-toggleable__content\"><pre>MLPClassifier(alpha=0.0017360992714110025, hidden_layer_sizes=(67, 20),\n",
              "              learning_rate_init=0.010047325174366043, random_state=42)</pre></div></div></div></div></div>"
            ]
          },
          "metadata": {},
          "execution_count": 39
        }
      ]
    },
    {
      "cell_type": "code",
      "source": [
        "val_pred = best_mlp.predict(X_val)\n",
        "val_accuracy = accuracy_score(y_val, val_pred)\n",
        "print(f'Validation Accuracy: {val_accuracy*100:.3f}')"
      ],
      "metadata": {
        "colab": {
          "base_uri": "https://localhost:8080/"
        },
        "id": "_Gl1tBFkJ_lI",
        "outputId": "65401d0f-04bc-4497-ef19-0770baf281c1"
      },
      "execution_count": 45,
      "outputs": [
        {
          "output_type": "stream",
          "name": "stdout",
          "text": [
            "Validation Accuracy: 95.881\n"
          ]
        }
      ]
    },
    {
      "cell_type": "code",
      "source": [
        "test_pred = best_mlp.predict(X_test)\n",
        "test_accuracy = accuracy_score(y_test, test_pred)\n",
        "print(f'Test Accuracy: {test_accuracy*100:.3f}')"
      ],
      "metadata": {
        "colab": {
          "base_uri": "https://localhost:8080/"
        },
        "id": "nhTfXR9aKB3V",
        "outputId": "13475d6b-6690-4ca3-ef03-230327fadc65"
      },
      "execution_count": 46,
      "outputs": [
        {
          "output_type": "stream",
          "name": "stdout",
          "text": [
            "Test Accuracy: 96.139\n"
          ]
        }
      ]
    }
  ]
}