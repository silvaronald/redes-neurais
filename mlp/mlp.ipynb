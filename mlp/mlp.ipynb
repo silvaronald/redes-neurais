{
  "cells": [
    {
      "cell_type": "markdown",
      "metadata": {},
      "source": [
        "# Setup"
      ]
    },
    {
      "cell_type": "code",
      "execution_count": 1,
      "metadata": {
        "colab": {
          "base_uri": "https://localhost:8080/"
        },
        "id": "bfRes-kUJT6b",
        "outputId": "8d3e57e9-b842-46b8-eab6-2f754e0bbedf"
      },
      "outputs": [
        {
          "name": "stdout",
          "output_type": "stream",
          "text": [
            "Defaulting to user installation because normal site-packages is not writeable\n",
            "Requirement already satisfied: optuna in /home/ronald/.local/lib/python3.10/site-packages (3.6.1)\n",
            "Requirement already satisfied: numpy in /home/ronald/.local/lib/python3.10/site-packages (from optuna) (2.0.0)\n",
            "Requirement already satisfied: packaging>=20.0 in /home/ronald/.local/lib/python3.10/site-packages (from optuna) (24.1)\n",
            "Requirement already satisfied: alembic>=1.5.0 in /home/ronald/.local/lib/python3.10/site-packages (from optuna) (1.13.2)\n",
            "Requirement already satisfied: sqlalchemy>=1.3.0 in /home/ronald/.local/lib/python3.10/site-packages (from optuna) (2.0.31)\n",
            "Requirement already satisfied: PyYAML in /usr/lib/python3/dist-packages (from optuna) (5.4.1)\n",
            "Requirement already satisfied: colorlog in /home/ronald/.local/lib/python3.10/site-packages (from optuna) (6.8.2)\n",
            "Requirement already satisfied: tqdm in /home/ronald/.local/lib/python3.10/site-packages (from optuna) (4.66.4)\n",
            "Requirement already satisfied: Mako in /home/ronald/.local/lib/python3.10/site-packages (from alembic>=1.5.0->optuna) (1.3.5)\n",
            "Requirement already satisfied: typing-extensions>=4 in /home/ronald/.local/lib/python3.10/site-packages (from alembic>=1.5.0->optuna) (4.12.2)\n",
            "Requirement already satisfied: greenlet!=0.4.17 in /home/ronald/.local/lib/python3.10/site-packages (from sqlalchemy>=1.3.0->optuna) (3.0.3)\n",
            "Requirement already satisfied: MarkupSafe>=0.9.2 in /home/ronald/.local/lib/python3.10/site-packages (from Mako->alembic>=1.5.0->optuna) (2.1.5)\n",
            "Note: you may need to restart the kernel to use updated packages.\n"
          ]
        }
      ],
      "source": [
        "%pip install optuna"
      ]
    },
    {
      "cell_type": "code",
      "execution_count": 2,
      "metadata": {
        "id": "tEP71Mw40dIo"
      },
      "outputs": [
        {
          "name": "stderr",
          "output_type": "stream",
          "text": [
            "/home/ronald/.local/lib/python3.10/site-packages/tqdm/auto.py:21: TqdmWarning: IProgress not found. Please update jupyter and ipywidgets. See https://ipywidgets.readthedocs.io/en/stable/user_install.html\n",
            "  from .autonotebook import tqdm as notebook_tqdm\n"
          ]
        }
      ],
      "source": [
        "import pandas as pd\n",
        "import optuna\n",
        "import numpy as np\n",
        "from sklearn.neural_network import MLPClassifier\n",
        "import os, sys\n",
        "CURRENT_DIR = os.path.dirname(os.path.abspath('.'))\n",
        "sys.path.append(os.path.dirname(CURRENT_DIR+\"/metrics.py\"))\n",
        "\n",
        "from metrics import CalcMetrics\n",
        "\n",
        "get_metric = CalcMetrics()"
      ]
    },
    {
      "cell_type": "code",
      "execution_count": 3,
      "metadata": {
        "id": "WQVT1XOg1p7N"
      },
      "outputs": [],
      "source": [
        "train_df = pd.read_csv(\"../datasets/processed/train.csv\")\n",
        "val_df = pd.read_csv(\"../datasets/processed/validation.csv\")\n",
        "test_df = pd.read_csv(\"../datasets/processed/test.csv\")"
      ]
    },
    {
      "cell_type": "code",
      "execution_count": 4,
      "metadata": {
        "id": "Ea6yt-EJEivH"
      },
      "outputs": [],
      "source": [
        "features = train_df.columns.drop('satisfaction')\n",
        "target = 'satisfaction'"
      ]
    },
    {
      "cell_type": "code",
      "execution_count": 5,
      "metadata": {
        "id": "OjPv6jd2Evs5"
      },
      "outputs": [],
      "source": [
        "X_train = train_df[features]\n",
        "y_train = train_df[target]\n",
        "X_val = val_df[features]\n",
        "y_val = val_df[target]\n",
        "X_test = test_df[features]\n",
        "y_test = test_df[target]"
      ]
    },
    {
      "cell_type": "markdown",
      "metadata": {},
      "source": [
        "# Modelo base"
      ]
    },
    {
      "cell_type": "code",
      "execution_count": 8,
      "metadata": {
        "id": "9lFjlVDpEwRu"
      },
      "outputs": [],
      "source": [
        "mlp = MLPClassifier(hidden_layer_sizes=(10,), random_state=42)"
      ]
    },
    {
      "cell_type": "code",
      "execution_count": 9,
      "metadata": {
        "colab": {
          "base_uri": "https://localhost:8080/"
        },
        "id": "9G5D7L8sE4aP",
        "outputId": "e325759b-7709-4c31-b2e6-17de705b4575"
      },
      "outputs": [],
      "source": [
        "mlp.fit(X_train, y_train)"
      ]
    },
    {
      "cell_type": "code",
      "execution_count": 25,
      "metadata": {
        "colab": {
          "base_uri": "https://localhost:8080/"
        },
        "id": "8oLn3rf9Fgu3",
        "outputId": "1d08aa33-01ff-4979-c5a8-e53b19f8cf6b"
      },
      "outputs": [],
      "source": [
        "y_pred = mlp.predict_proba(X_test)[:,1]"
      ]
    },
    {
      "cell_type": "code",
      "execution_count": 26,
      "metadata": {},
      "outputs": [
        {
          "data": {
            "text/plain": [
              "array([9.98124044e-01, 9.99999953e-01, 6.75389775e-04, ...,\n",
              "       4.60711215e-06, 9.98828438e-01, 9.70341042e-06])"
            ]
          },
          "execution_count": 26,
          "metadata": {},
          "output_type": "execute_result"
        }
      ],
      "source": [
        "y_pred"
      ]
    },
    {
      "cell_type": "code",
      "execution_count": 27,
      "metadata": {},
      "outputs": [
        {
          "data": {
            "text/plain": [
              "np.float64(0.8934214168540269)"
            ]
          },
          "execution_count": 27,
          "metadata": {},
          "output_type": "execute_result"
        }
      ],
      "source": [
        "get_metric.ks(y_pred, y_test)"
      ]
    },
    {
      "cell_type": "code",
      "execution_count": 28,
      "metadata": {},
      "outputs": [
        {
          "data": {
            "image/png": "[encoded data removed]",
            "text/plain": [
              "<Figure size 640x480 with 1 Axes>"
            ]
          },
          "metadata": {},
          "output_type": "display_data"
        }
      ],
      "source": [
        "get_metric.auc(y_pred, y_test)"
      ]
    },
    {
      "cell_type": "markdown",
      "metadata": {},
      "source": [
        "# Teste inicial com o Optuna"
      ]
    },
    {
      "cell_type": "code",
      "execution_count": 9,
      "metadata": {
        "id": "L_BDMkoXJMzE"
      },
      "outputs": [],
      "source": [
        "def objective(trial):\n",
        "    epochs = trial.suggest_int('epochs', 10, 25)\n",
        "    n_layers = trial.suggest_int('n_layers', 1, 3)  # Number of layers\n",
        "    hidden_layer_sizes = tuple(trial.suggest_int(f'n_units_l{i}', 10, 200) for i in range(n_layers))  # Start small, increase as needed\n",
        "    learning_rate_init = trial.suggest_float('learning_rate_init', 0.0001, 0.1, log=True)\n",
        "    activation = trial.suggest_categorical('activation', ['logistic', 'tanh', 'relu'])\n",
        "    solver = trial.suggest_categorical('solver', ['adam', 'sgd'])\n",
        "    alpha = trial.suggest_float('alpha', 0.00001, 0.01, log=True)  # L2 regularization\n",
        "    #dropout_rate = trial.suggest_uniform('dropout_rate', 0, 0.5)  # Dropout rate\n",
        "\n",
        "    # Initialize MLP\n",
        "    mlp = MLPClassifier(\n",
        "        hidden_layer_sizes=hidden_layer_sizes,\n",
        "        learning_rate_init=learning_rate_init,\n",
        "        activation=activation,\n",
        "        solver=solver,\n",
        "        alpha=alpha,\n",
        "        warm_start=True,  # So we can call partial_fit\n",
        "        max_iter=1,       # So we train for one iteration at a time\n",
        "        random_state=42\n",
        "    )\n",
        "\n",
        "    # Initialize variables for early stopping\n",
        "    best_val_score = -float('inf')\n",
        "    epochs_no_improve = 0\n",
        "    patience = 10\n",
        "    max_epochs = 500\n",
        "    improvement_threshold = 1e-2  # Minimal improvement threshold\n",
        "\n",
        "\n",
        "    for epoch in range(epochs):\n",
        "        mlp.partial_fit(X_train, y_train, classes=np.unique(y_train))  # Perform one epoch of training\n",
        "\n",
        "        # Validate the model\n",
        "        val_pred = mlp.predict_proba(X_val)[:,1]\n",
        "        val_score = get_metric.ks(val_pred, y_val)\n",
        "        \n",
        "        # Check if validation score improved\n",
        "        if val_score - best_val_score > improvement_threshold:\n",
        "            best_val_score = val_score\n",
        "            epochs_no_improve = 0\n",
        "        else:\n",
        "            epochs_no_improve += 1\n",
        "\n",
        "        # Check early stopping condition\n",
        "        if epochs_no_improve >= patience:\n",
        "            break\n",
        "    \n",
        "    test_pred = mlp.predict_proba(X_test)[:,1]\n",
        "    test_score = get_metric.ks(test_pred, y_test)\n",
        "    return test_score\n"
      ]
    },
    {
      "cell_type": "code",
      "execution_count": 10,
      "metadata": {
        "colab": {
          "base_uri": "https://localhost:8080/"
        },
        "id": "ti_3EWMrJwim",
        "outputId": "fe9ba1cc-839a-4431-a154-8497df57f541"
      },
      "outputs": [
        {
          "name": "stderr",
          "output_type": "stream",
          "text": [
            "[I 2024-07-28 14:00:35,297] A new study created in memory with name: no-name-646f1de1-3a43-4f76-9b04-d6a49d72c5a3\n",
            "[I 2024-07-28 14:01:07,820] Trial 0 finished with value: 0.8861344043477202 and parameters: {'epochs': 16, 'n_layers': 3, 'n_units_l0': 119, 'n_units_l1': 130, 'n_units_l2': 47, 'learning_rate_init': 0.00020584716709905418, 'activation': 'relu', 'solver': 'adam', 'alpha': 3.0813836801526114e-05}. Best is trial 0 with value: 0.8861344043477202.\n",
            "[I 2024-07-28 14:02:10,844] Trial 1 finished with value: 0.5930159892782058 and parameters: {'epochs': 23, 'n_layers': 3, 'n_units_l0': 136, 'n_units_l1': 119, 'n_units_l2': 111, 'learning_rate_init': 0.0006151562462442542, 'activation': 'logistic', 'solver': 'sgd', 'alpha': 0.0003723518940807477}. Best is trial 0 with value: 0.8861344043477202.\n",
            "[I 2024-07-28 14:02:21,166] Trial 2 finished with value: 0.9103448917890444 and parameters: {'epochs': 17, 'n_layers': 2, 'n_units_l0': 71, 'n_units_l1': 64, 'learning_rate_init': 0.003946704671438129, 'activation': 'relu', 'solver': 'adam', 'alpha': 2.8379135883105465e-05}. Best is trial 2 with value: 0.9103448917890444.\n",
            "[I 2024-07-28 14:02:26,989] Trial 3 finished with value: 0.7229483593227488 and parameters: {'epochs': 13, 'n_layers': 1, 'n_units_l0': 63, 'learning_rate_init': 0.00012242627479606066, 'activation': 'logistic', 'solver': 'adam', 'alpha': 0.0009916220692697232}. Best is trial 2 with value: 0.9103448917890444.\n",
            "[I 2024-07-28 14:03:00,125] Trial 4 finished with value: 0.9077566768263217 and parameters: {'epochs': 12, 'n_layers': 3, 'n_units_l0': 65, 'n_units_l1': 100, 'n_units_l2': 56, 'learning_rate_init': 0.08980603320354556, 'activation': 'tanh', 'solver': 'sgd', 'alpha': 0.0005310386491323098}. Best is trial 2 with value: 0.9103448917890444.\n",
            "[I 2024-07-28 14:03:51,989] Trial 5 finished with value: 0.1690514917507392 and parameters: {'epochs': 16, 'n_layers': 3, 'n_units_l0': 197, 'n_units_l1': 92, 'n_units_l2': 44, 'learning_rate_init': 0.0001971264637424669, 'activation': 'logistic', 'solver': 'sgd', 'alpha': 0.0005298046792956743}. Best is trial 2 with value: 0.9103448917890444.\n",
            "[I 2024-07-28 14:04:03,135] Trial 6 finished with value: 0.847080015245771 and parameters: {'epochs': 12, 'n_layers': 2, 'n_units_l0': 16, 'n_units_l1': 88, 'learning_rate_init': 0.0007354353304246829, 'activation': 'tanh', 'solver': 'adam', 'alpha': 4.329503735134708e-05}. Best is trial 2 with value: 0.9103448917890444.\n",
            "[I 2024-07-28 14:04:26,913] Trial 7 finished with value: 0.8965946624312033 and parameters: {'epochs': 20, 'n_layers': 2, 'n_units_l0': 43, 'n_units_l1': 65, 'learning_rate_init': 0.04468696180540675, 'activation': 'tanh', 'solver': 'sgd', 'alpha': 0.0033721527193830265}. Best is trial 2 with value: 0.9103448917890444.\n",
            "[I 2024-07-28 14:05:14,907] Trial 8 finished with value: 0.7343521175291349 and parameters: {'epochs': 15, 'n_layers': 3, 'n_units_l0': 92, 'n_units_l1': 140, 'n_units_l2': 124, 'learning_rate_init': 0.0002756494808824268, 'activation': 'relu', 'solver': 'sgd', 'alpha': 0.004475704542898718}. Best is trial 2 with value: 0.9103448917890444.\n",
            "[I 2024-07-28 14:06:21,961] Trial 9 finished with value: 0.8626347960801709 and parameters: {'epochs': 21, 'n_layers': 2, 'n_units_l0': 167, 'n_units_l1': 190, 'learning_rate_init': 0.0026801690223877605, 'activation': 'logistic', 'solver': 'adam', 'alpha': 0.00026104633797480984}. Best is trial 2 with value: 0.9103448917890444.\n",
            "[I 2024-07-28 14:06:29,599] Trial 10 finished with value: 0.9065514420293351 and parameters: {'epochs': 25, 'n_layers': 1, 'n_units_l0': 91, 'learning_rate_init': 0.011508085339241875, 'activation': 'relu', 'solver': 'adam', 'alpha': 1.0109218944185909e-05}. Best is trial 2 with value: 0.9103448917890444.\n",
            "[I 2024-07-28 14:06:36,589] Trial 11 finished with value: 0.8970262712974676 and parameters: {'epochs': 10, 'n_layers': 2, 'n_units_l0': 57, 'n_units_l1': 17, 'learning_rate_init': 0.09173234969543002, 'activation': 'tanh', 'solver': 'sgd', 'alpha': 0.00010694440534701259}. Best is trial 2 with value: 0.9103448917890444.\n",
            "[I 2024-07-28 14:06:44,610] Trial 12 finished with value: 0.8886659323966187 and parameters: {'epochs': 20, 'n_layers': 2, 'n_units_l0': 28, 'n_units_l1': 44, 'learning_rate_init': 0.012656896233358667, 'activation': 'relu', 'solver': 'sgd', 'alpha': 0.001555443995158918}. Best is trial 2 with value: 0.9103448917890444.\n",
            "[I 2024-07-28 14:06:54,721] Trial 13 finished with value: 0.8863861014663622 and parameters: {'epochs': 18, 'n_layers': 1, 'n_units_l0': 73, 'learning_rate_init': 0.006118957963293894, 'activation': 'tanh', 'solver': 'adam', 'alpha': 0.00011299703945334658}. Best is trial 2 with value: 0.9103448917890444.\n",
            "[I 2024-07-28 14:07:10,038] Trial 14 finished with value: 0.9069536663732848 and parameters: {'epochs': 10, 'n_layers': 3, 'n_units_l0': 123, 'n_units_l1': 57, 'n_units_l2': 172, 'learning_rate_init': 0.03125027405856677, 'activation': 'relu', 'solver': 'sgd', 'alpha': 1.4950124858487308e-05}. Best is trial 2 with value: 0.9103448917890444.\n",
            "[I 2024-07-28 14:07:58,050] Trial 15 finished with value: 0.9029519192850078 and parameters: {'epochs': 13, 'n_layers': 2, 'n_units_l0': 83, 'n_units_l1': 159, 'learning_rate_init': 0.002031277778264914, 'activation': 'tanh', 'solver': 'adam', 'alpha': 0.00016224022933037207}. Best is trial 2 with value: 0.9103448917890444.\n",
            "[I 2024-07-28 14:08:19,664] Trial 16 finished with value: 0.0 and parameters: {'epochs': 18, 'n_layers': 3, 'n_units_l0': 42, 'n_units_l1': 85, 'n_units_l2': 10, 'learning_rate_init': 0.0919357828786643, 'activation': 'tanh', 'solver': 'adam', 'alpha': 0.009940038368743388}. Best is trial 2 with value: 0.9103448917890444.\n",
            "[I 2024-07-28 14:08:25,990] Trial 17 finished with value: 0.76462395252347 and parameters: {'epochs': 14, 'n_layers': 1, 'n_units_l0': 152, 'learning_rate_init': 0.001467748456422011, 'activation': 'relu', 'solver': 'sgd', 'alpha': 5.065176892559674e-05}. Best is trial 2 with value: 0.9103448917890444.\n",
            "[I 2024-07-28 14:08:32,404] Trial 18 finished with value: 0.867501758783714 and parameters: {'epochs': 11, 'n_layers': 2, 'n_units_l0': 106, 'n_units_l1': 24, 'learning_rate_init': 0.006495793773821027, 'activation': 'relu', 'solver': 'sgd', 'alpha': 0.0009404305765910927}. Best is trial 2 with value: 0.9103448917890444.\n",
            "[I 2024-07-28 14:08:48,061] Trial 19 finished with value: 0.8911945659226352 and parameters: {'epochs': 17, 'n_layers': 2, 'n_units_l0': 48, 'n_units_l1': 111, 'learning_rate_init': 0.03081180389026529, 'activation': 'tanh', 'solver': 'adam', 'alpha': 2.8978309150151987e-05}. Best is trial 2 with value: 0.9103448917890444.\n",
            "[I 2024-07-28 14:09:04,106] Trial 20 finished with value: 0.904276130406115 and parameters: {'epochs': 22, 'n_layers': 3, 'n_units_l0': 16, 'n_units_l1': 73, 'n_units_l2': 70, 'learning_rate_init': 0.013008348269375603, 'activation': 'relu', 'solver': 'adam', 'alpha': 7.786139489587303e-05}. Best is trial 2 with value: 0.9103448917890444.\n",
            "[I 2024-07-28 14:09:25,824] Trial 21 finished with value: 0.9065986329824359 and parameters: {'epochs': 10, 'n_layers': 3, 'n_units_l0': 107, 'n_units_l1': 54, 'n_units_l2': 184, 'learning_rate_init': 0.03120072737595422, 'activation': 'relu', 'solver': 'sgd', 'alpha': 1.0316570037759035e-05}. Best is trial 2 with value: 0.9103448917890444.\n",
            "[I 2024-07-28 14:09:43,261] Trial 22 finished with value: 0.9079765522464178 and parameters: {'epochs': 11, 'n_layers': 3, 'n_units_l0': 127, 'n_units_l1': 40, 'n_units_l2': 183, 'learning_rate_init': 0.04868326661616309, 'activation': 'relu', 'solver': 'sgd', 'alpha': 1.8282240519886535e-05}. Best is trial 2 with value: 0.9103448917890444.\n",
            "[I 2024-07-28 14:09:56,019] Trial 23 finished with value: 0.9090980685354296 and parameters: {'epochs': 12, 'n_layers': 3, 'n_units_l0': 76, 'n_units_l1': 41, 'n_units_l2': 154, 'learning_rate_init': 0.06896473883508812, 'activation': 'relu', 'solver': 'sgd', 'alpha': 2.060945330275561e-05}. Best is trial 2 with value: 0.9103448917890444.\n",
            "[I 2024-07-28 14:10:11,565] Trial 24 finished with value: 0.9081723748433128 and parameters: {'epochs': 14, 'n_layers': 3, 'n_units_l0': 152, 'n_units_l1': 36, 'n_units_l2': 148, 'learning_rate_init': 0.05507602474562428, 'activation': 'relu', 'solver': 'sgd', 'alpha': 2.277135682000266e-05}. Best is trial 2 with value: 0.9103448917890444.\n",
            "[I 2024-07-28 14:10:22,519] Trial 25 finished with value: 0.8815450871675337 and parameters: {'epochs': 14, 'n_layers': 2, 'n_units_l0': 182, 'n_units_l1': 10, 'learning_rate_init': 0.006768408455247649, 'activation': 'relu', 'solver': 'sgd', 'alpha': 2.4001842537043733e-05}. Best is trial 2 with value: 0.9103448917890444.\n",
            "[I 2024-07-28 14:10:45,715] Trial 26 finished with value: 0.9047670499117264 and parameters: {'epochs': 15, 'n_layers': 3, 'n_units_l0': 148, 'n_units_l1': 36, 'n_units_l2': 144, 'learning_rate_init': 0.01601917208403732, 'activation': 'relu', 'solver': 'sgd', 'alpha': 5.408453922856831e-05}. Best is trial 2 with value: 0.9103448917890444.\n",
            "[I 2024-07-28 14:10:54,634] Trial 27 finished with value: 0.8717067422988044 and parameters: {'epochs': 17, 'n_layers': 2, 'n_units_l0': 78, 'n_units_l1': 28, 'learning_rate_init': 0.004228590062835355, 'activation': 'relu', 'solver': 'sgd', 'alpha': 1.7001002380516173e-05}. Best is trial 2 with value: 0.9103448917890444.\n",
            "[I 2024-07-28 14:11:26,525] Trial 28 finished with value: 0.9072156718447274 and parameters: {'epochs': 19, 'n_layers': 3, 'n_units_l0': 96, 'n_units_l1': 51, 'n_units_l2': 155, 'learning_rate_init': 0.019725532691193808, 'activation': 'relu', 'solver': 'adam', 'alpha': 3.742408401561573e-05}. Best is trial 2 with value: 0.9103448917890444.\n",
            "[I 2024-07-28 14:11:55,023] Trial 29 finished with value: 0.8579970182081557 and parameters: {'epochs': 16, 'n_layers': 3, 'n_units_l0': 113, 'n_units_l1': 74, 'n_units_l2': 138, 'learning_rate_init': 0.05286440458643996, 'activation': 'relu', 'solver': 'adam', 'alpha': 6.6874252386112e-05}. Best is trial 2 with value: 0.9103448917890444.\n",
            "[I 2024-07-28 14:12:08,534] Trial 30 finished with value: 0.7926125204699485 and parameters: {'epochs': 14, 'n_layers': 2, 'n_units_l0': 162, 'n_units_l1': 32, 'learning_rate_init': 0.001161235350291655, 'activation': 'relu', 'solver': 'sgd', 'alpha': 2.5412055082444123e-05}. Best is trial 2 with value: 0.9103448917890444.\n",
            "[I 2024-07-28 14:12:32,917] Trial 31 finished with value: 0.9072572603013557 and parameters: {'epochs': 12, 'n_layers': 3, 'n_units_l0': 135, 'n_units_l1': 44, 'n_units_l2': 194, 'learning_rate_init': 0.050731370890665324, 'activation': 'relu', 'solver': 'sgd', 'alpha': 1.7559480124616594e-05}. Best is trial 2 with value: 0.9103448917890444.\n",
            "[I 2024-07-28 14:12:55,646] Trial 32 finished with value: 0.9093452463470354 and parameters: {'epochs': 11, 'n_layers': 3, 'n_units_l0': 129, 'n_units_l1': 66, 'n_units_l2': 169, 'learning_rate_init': 0.053771915704488, 'activation': 'relu', 'solver': 'sgd', 'alpha': 2.0800902638604846e-05}. Best is trial 2 with value: 0.9103448917890444.\n",
            "[I 2024-07-28 14:13:33,704] Trial 33 finished with value: 0.7422116016701553 and parameters: {'epochs': 13, 'n_layers': 3, 'n_units_l0': 146, 'n_units_l1': 69, 'n_units_l2': 160, 'learning_rate_init': 0.022794401933401646, 'activation': 'logistic', 'solver': 'sgd', 'alpha': 3.492584473430364e-05}. Best is trial 2 with value: 0.9103448917890444.\n",
            "[I 2024-07-28 14:13:54,161] Trial 34 finished with value: 0.9096510066539786 and parameters: {'epochs': 11, 'n_layers': 3, 'n_units_l0': 168, 'n_units_l1': 62, 'n_units_l2': 96, 'learning_rate_init': 0.06557146554758544, 'activation': 'relu', 'solver': 'sgd', 'alpha': 1.32725563089545e-05}. Best is trial 2 with value: 0.9103448917890444.\n",
            "[I 2024-07-28 14:14:16,643] Trial 35 finished with value: 0.9050065430960548 and parameters: {'epochs': 11, 'n_layers': 3, 'n_units_l0': 179, 'n_units_l1': 80, 'n_units_l2': 88, 'learning_rate_init': 0.07290947241004268, 'activation': 'relu', 'solver': 'sgd', 'alpha': 1.0120617617717512e-05}. Best is trial 2 with value: 0.9103448917890444.\n",
            "[I 2024-07-28 14:14:34,322] Trial 36 finished with value: 0.5280410274126421 and parameters: {'epochs': 12, 'n_layers': 3, 'n_units_l0': 68, 'n_units_l1': 64, 'n_units_l2': 97, 'learning_rate_init': 0.00037450834215651944, 'activation': 'logistic', 'solver': 'sgd', 'alpha': 1.3853007248530063e-05}. Best is trial 2 with value: 0.9103448917890444.\n",
            "[I 2024-07-28 14:14:58,207] Trial 37 finished with value: 0.6653090572046121 and parameters: {'epochs': 11, 'n_layers': 3, 'n_units_l0': 129, 'n_units_l1': 107, 'n_units_l2': 126, 'learning_rate_init': 0.00013552541082266105, 'activation': 'relu', 'solver': 'sgd', 'alpha': 0.0001613336745319335}. Best is trial 2 with value: 0.9103448917890444.\n",
            "[I 2024-07-28 14:15:58,426] Trial 38 finished with value: 0.905887483011302 and parameters: {'epochs': 24, 'n_layers': 3, 'n_units_l0': 195, 'n_units_l1': 125, 'n_units_l2': 113, 'learning_rate_init': 0.0006220995463532492, 'activation': 'relu', 'solver': 'adam', 'alpha': 3.602812191061443e-05}. Best is trial 2 with value: 0.9103448917890444.\n",
            "[I 2024-07-28 14:16:04,787] Trial 39 finished with value: 0.7380080563899273 and parameters: {'epochs': 15, 'n_layers': 1, 'n_units_l0': 60, 'learning_rate_init': 0.008972231709118334, 'activation': 'logistic', 'solver': 'sgd', 'alpha': 8.224441296160706e-05}. Best is trial 2 with value: 0.9103448917890444.\n",
            "[I 2024-07-28 14:16:19,297] Trial 40 finished with value: 0.8519345874657086 and parameters: {'epochs': 13, 'n_layers': 2, 'n_units_l0': 97, 'n_units_l1': 96, 'learning_rate_init': 0.06586959072487981, 'activation': 'relu', 'solver': 'adam', 'alpha': 2.2224432529538264e-05}. Best is trial 2 with value: 0.9103448917890444.\n",
            "[I 2024-07-28 14:16:39,180] Trial 41 finished with value: 0.9046973466715115 and parameters: {'epochs': 12, 'n_layers': 3, 'n_units_l0': 162, 'n_units_l1': 57, 'n_units_l2': 164, 'learning_rate_init': 0.036427866658810364, 'activation': 'relu', 'solver': 'sgd', 'alpha': 2.4933465579867014e-05}. Best is trial 2 with value: 0.9103448917890444.\n",
            "[I 2024-07-28 14:16:57,996] Trial 42 finished with value: 0.910337748756485 and parameters: {'epochs': 13, 'n_layers': 3, 'n_units_l0': 174, 'n_units_l1': 45, 'n_units_l2': 143, 'learning_rate_init': 0.06822303652254824, 'activation': 'relu', 'solver': 'sgd', 'alpha': 4.700315942349934e-05}. Best is trial 2 with value: 0.9103448917890444.\n",
            "[I 2024-07-28 14:17:15,865] Trial 43 finished with value: 0.905134287236889 and parameters: {'epochs': 10, 'n_layers': 3, 'n_units_l0': 180, 'n_units_l1': 49, 'n_units_l2': 129, 'learning_rate_init': 0.09869186010753954, 'activation': 'relu', 'solver': 'sgd', 'alpha': 4.999158093934342e-05}. Best is trial 2 with value: 0.9103448917890444.\n",
            "[I 2024-07-28 14:18:02,820] Trial 44 finished with value: 0.9030269542243362 and parameters: {'epochs': 12, 'n_layers': 3, 'n_units_l0': 169, 'n_units_l1': 65, 'n_units_l2': 200, 'learning_rate_init': 0.020111104172526293, 'activation': 'relu', 'solver': 'sgd', 'alpha': 1.3580085508464176e-05}. Best is trial 2 with value: 0.9103448917890444.\n",
            "[I 2024-07-28 14:18:16,897] Trial 45 finished with value: 0.9082036549471407 and parameters: {'epochs': 13, 'n_layers': 3, 'n_units_l0': 200, 'n_units_l1': 22, 'n_units_l2': 84, 'learning_rate_init': 0.07185913911807969, 'activation': 'relu', 'solver': 'sgd', 'alpha': 0.00028790318260726096}. Best is trial 2 with value: 0.9103448917890444.\n",
            "[I 2024-07-28 14:18:30,566] Trial 46 finished with value: 0.741488061215416 and parameters: {'epochs': 11, 'n_layers': 2, 'n_units_l0': 85, 'n_units_l1': 91, 'learning_rate_init': 0.02551319014058699, 'activation': 'logistic', 'solver': 'sgd', 'alpha': 3.222463134264078e-05}. Best is trial 2 with value: 0.9103448917890444.\n",
            "[I 2024-07-28 14:18:46,656] Trial 47 finished with value: 0.8997418753555984 and parameters: {'epochs': 16, 'n_layers': 2, 'n_units_l0': 116, 'n_units_l1': 81, 'learning_rate_init': 0.0398379332739807, 'activation': 'relu', 'solver': 'sgd', 'alpha': 1.3269267043057825e-05}. Best is trial 2 with value: 0.9103448917890444.\n",
            "[I 2024-07-28 14:19:02,677] Trial 48 finished with value: 0.771508469888468 and parameters: {'epochs': 10, 'n_layers': 3, 'n_units_l0': 48, 'n_units_l1': 60, 'n_units_l2': 168, 'learning_rate_init': 0.07030729261029527, 'activation': 'relu', 'solver': 'adam', 'alpha': 0.00011168267837288082}. Best is trial 2 with value: 0.9103448917890444.\n",
            "[I 2024-07-28 14:19:43,717] Trial 49 finished with value: 0.8819522881651702 and parameters: {'epochs': 13, 'n_layers': 3, 'n_units_l0': 188, 'n_units_l1': 141, 'n_units_l2': 135, 'learning_rate_init': 0.00416045743021289, 'activation': 'relu', 'solver': 'sgd', 'alpha': 0.0005356719155389323}. Best is trial 2 with value: 0.9103448917890444.\n",
            "[I 2024-07-28 14:19:58,640] Trial 50 finished with value: 0.8906204695037673 and parameters: {'epochs': 15, 'n_layers': 1, 'n_units_l0': 139, 'learning_rate_init': 0.03957084366257542, 'activation': 'tanh', 'solver': 'adam', 'alpha': 5.955002323990118e-05}. Best is trial 2 with value: 0.9103448917890444.\n",
            "[I 2024-07-28 14:20:14,878] Trial 51 finished with value: 0.9059025814684979 and parameters: {'epochs': 13, 'n_layers': 3, 'n_units_l0': 194, 'n_units_l1': 17, 'n_units_l2': 85, 'learning_rate_init': 0.07193948950979132, 'activation': 'relu', 'solver': 'sgd', 'alpha': 0.00035704157627801847}. Best is trial 2 with value: 0.9103448917890444.\n",
            "[I 2024-07-28 14:20:26,591] Trial 52 finished with value: 0.906155090979217 and parameters: {'epochs': 11, 'n_layers': 3, 'n_units_l0': 189, 'n_units_l1': 24, 'n_units_l2': 74, 'learning_rate_init': 0.0634216767156673, 'activation': 'relu', 'solver': 'sgd', 'alpha': 0.0002102124237950112}. Best is trial 2 with value: 0.9103448917890444.\n",
            "[I 2024-07-28 14:20:44,485] Trial 53 finished with value: 0.9106273274167961 and parameters: {'epochs': 12, 'n_layers': 3, 'n_units_l0': 200, 'n_units_l1': 47, 'n_units_l2': 101, 'learning_rate_init': 0.08885304456690936, 'activation': 'relu', 'solver': 'sgd', 'alpha': 0.002517818187891971}. Best is trial 53 with value: 0.9106273274167961.\n",
            "[I 2024-07-28 14:20:59,548] Trial 54 finished with value: 0.9111389478760759 and parameters: {'epochs': 12, 'n_layers': 3, 'n_units_l0': 162, 'n_units_l1': 46, 'n_units_l2': 105, 'learning_rate_init': 0.0864666513036968, 'activation': 'relu', 'solver': 'sgd', 'alpha': 0.004265398444772993}. Best is trial 54 with value: 0.9111389478760759.\n",
            "[I 2024-07-28 14:21:32,527] Trial 55 finished with value: 0.9090323430075329 and parameters: {'epochs': 21, 'n_layers': 3, 'n_units_l0': 173, 'n_units_l1': 49, 'n_units_l2': 105, 'learning_rate_init': 0.027671767648264876, 'activation': 'relu', 'solver': 'sgd', 'alpha': 0.00401432606610989}. Best is trial 54 with value: 0.9111389478760759.\n",
            "[I 2024-07-28 14:21:52,864] Trial 56 finished with value: 0.902508918876507 and parameters: {'epochs': 10, 'n_layers': 2, 'n_units_l0': 162, 'n_units_l1': 75, 'learning_rate_init': 0.09740420102843649, 'activation': 'relu', 'solver': 'sgd', 'alpha': 0.007034666811861197}. Best is trial 54 with value: 0.9111389478760759.\n",
            "[I 2024-07-28 14:23:29,139] Trial 57 finished with value: 0.8989497148500801 and parameters: {'epochs': 12, 'n_layers': 3, 'n_units_l0': 173, 'n_units_l1': 181, 'n_units_l2': 111, 'learning_rate_init': 0.03542483215543783, 'activation': 'tanh', 'solver': 'sgd', 'alpha': 0.0020432304514632752}. Best is trial 54 with value: 0.9111389478760759.\n",
            "[I 2024-07-28 14:23:51,923] Trial 58 finished with value: 0.8981199436002518 and parameters: {'epochs': 14, 'n_layers': 3, 'n_units_l0': 186, 'n_units_l1': 59, 'n_units_l2': 98, 'learning_rate_init': 0.04528444703769781, 'activation': 'relu', 'solver': 'adam', 'alpha': 0.001958422798284683}. Best is trial 54 with value: 0.9111389478760759.\n",
            "[I 2024-07-28 14:24:19,764] Trial 59 finished with value: 0.854500019343958 and parameters: {'epochs': 19, 'n_layers': 2, 'n_units_l0': 157, 'n_units_l1': 45, 'learning_rate_init': 0.0022300871773679324, 'activation': 'relu', 'solver': 'sgd', 'alpha': 0.00498489467048831}. Best is trial 54 with value: 0.9111389478760759.\n",
            "[I 2024-07-28 14:24:48,760] Trial 60 finished with value: 0.9114547457384604 and parameters: {'epochs': 11, 'n_layers': 3, 'n_units_l0': 141, 'n_units_l1': 69, 'n_units_l2': 62, 'learning_rate_init': 0.08319578176750356, 'activation': 'relu', 'solver': 'sgd', 'alpha': 0.0011016204670703212}. Best is trial 60 with value: 0.9114547457384604.\n",
            "[I 2024-07-28 14:25:04,829] Trial 61 finished with value: 0.908211068777059 and parameters: {'epochs': 11, 'n_layers': 3, 'n_units_l0': 141, 'n_units_l1': 68, 'n_units_l2': 42, 'learning_rate_init': 0.08223990199717168, 'activation': 'relu', 'solver': 'sgd', 'alpha': 0.0015785530637936241}. Best is trial 60 with value: 0.9114547457384604.\n",
            "[I 2024-07-28 14:25:19,638] Trial 62 finished with value: 0.9086103143500593 and parameters: {'epochs': 10, 'n_layers': 3, 'n_units_l0': 132, 'n_units_l1': 54, 'n_units_l2': 55, 'learning_rate_init': 0.05689638686386788, 'activation': 'relu', 'solver': 'sgd', 'alpha': 0.003497638567283342}. Best is trial 60 with value: 0.9114547457384604.\n",
            "[I 2024-07-28 14:25:47,085] Trial 63 finished with value: 0.9113511386688946 and parameters: {'epochs': 11, 'n_layers': 3, 'n_units_l0': 147, 'n_units_l1': 84, 'n_units_l2': 116, 'learning_rate_init': 0.0860223324612479, 'activation': 'relu', 'solver': 'sgd', 'alpha': 0.0010683373731569016}. Best is trial 60 with value: 0.9114547457384604.\n",
            "[I 2024-07-28 14:26:19,415] Trial 64 finished with value: 0.9106472159783874 and parameters: {'epochs': 13, 'n_layers': 3, 'n_units_l0': 152, 'n_units_l1': 101, 'n_units_l2': 116, 'learning_rate_init': 0.09635172768111236, 'activation': 'relu', 'solver': 'sgd', 'alpha': 0.0008434505959313384}. Best is trial 60 with value: 0.9114547457384604.\n",
            "[I 2024-07-28 14:26:48,878] Trial 65 finished with value: 0.9062541787417465 and parameters: {'epochs': 13, 'n_layers': 3, 'n_units_l0': 155, 'n_units_l1': 102, 'n_units_l2': 117, 'learning_rate_init': 0.08713002921002652, 'activation': 'relu', 'solver': 'sgd', 'alpha': 0.0009034296764237933}. Best is trial 60 with value: 0.9114547457384604.\n",
            "[I 2024-07-28 14:27:17,803] Trial 66 finished with value: 0.859813418573602 and parameters: {'epochs': 14, 'n_layers': 3, 'n_units_l0': 150, 'n_units_l1': 88, 'n_units_l2': 119, 'learning_rate_init': 0.08804728220833251, 'activation': 'relu', 'solver': 'adam', 'alpha': 0.002605836088026153}. Best is trial 60 with value: 0.9114547457384604.\n",
            "[I 2024-07-28 14:27:41,081] Trial 67 finished with value: 0.7427818046247723 and parameters: {'epochs': 12, 'n_layers': 3, 'n_units_l0': 144, 'n_units_l1': 82, 'n_units_l2': 18, 'learning_rate_init': 0.04469399872386239, 'activation': 'logistic', 'solver': 'sgd', 'alpha': 0.0006896340064158904}. Best is trial 60 with value: 0.9114547457384604.\n",
            "[I 2024-07-28 14:28:08,207] Trial 68 finished with value: 0.7456052642621462 and parameters: {'epochs': 17, 'n_layers': 2, 'n_units_l0': 122, 'n_units_l1': 35, 'learning_rate_init': 0.0009663150835299083, 'activation': 'tanh', 'solver': 'sgd', 'alpha': 0.001204166868261959}. Best is trial 60 with value: 0.9114547457384604.\n",
            "[I 2024-07-28 14:28:34,716] Trial 69 finished with value: 0.8992207589355952 and parameters: {'epochs': 12, 'n_layers': 3, 'n_units_l0': 158, 'n_units_l1': 112, 'n_units_l2': 69, 'learning_rate_init': 0.09841161199458223, 'activation': 'relu', 'solver': 'sgd', 'alpha': 0.0007708977514704429}. Best is trial 60 with value: 0.9114547457384604.\n",
            "[I 2024-07-28 14:29:15,654] Trial 70 finished with value: 0.8765540872381153 and parameters: {'epochs': 15, 'n_layers': 3, 'n_units_l0': 178, 'n_units_l1': 98, 'n_units_l2': 105, 'learning_rate_init': 0.05732784823465356, 'activation': 'relu', 'solver': 'adam', 'alpha': 0.001290835872942416}. Best is trial 60 with value: 0.9114547457384604.\n",
            "[I 2024-07-28 14:29:40,079] Trial 71 finished with value: 0.9077797307081539 and parameters: {'epochs': 11, 'n_layers': 3, 'n_units_l0': 172, 'n_units_l1': 74, 'n_units_l2': 94, 'learning_rate_init': 0.07806297917088365, 'activation': 'relu', 'solver': 'sgd', 'alpha': 0.002704181366268137}. Best is trial 60 with value: 0.9114547457384604.\n",
            "[I 2024-07-28 14:29:57,185] Trial 72 finished with value: 0.9120990869922615 and parameters: {'epochs': 12, 'n_layers': 3, 'n_units_l0': 167, 'n_units_l1': 41, 'n_units_l2': 76, 'learning_rate_init': 0.06257100610915992, 'activation': 'relu', 'solver': 'sgd', 'alpha': 0.00047982341215878837}. Best is trial 72 with value: 0.9120990869922615.\n",
            "[I 2024-07-28 14:30:11,072] Trial 73 finished with value: 0.9077598421465628 and parameters: {'epochs': 12, 'n_layers': 3, 'n_units_l0': 166, 'n_units_l1': 40, 'n_units_l2': 74, 'learning_rate_init': 0.04705955296553343, 'activation': 'relu', 'solver': 'sgd', 'alpha': 0.0004966829096112716}. Best is trial 72 with value: 0.9120990869922615.\n",
            "[I 2024-07-28 14:30:25,398] Trial 74 finished with value: 0.8956093030543132 and parameters: {'epochs': 13, 'n_layers': 3, 'n_units_l0': 137, 'n_units_l1': 30, 'n_units_l2': 63, 'learning_rate_init': 0.01585400346591107, 'activation': 'relu', 'solver': 'sgd', 'alpha': 0.00043727581428991874}. Best is trial 72 with value: 0.9120990869922615.\n",
            "[I 2024-07-28 14:30:34,156] Trial 75 finished with value: 0.9010658156793464 and parameters: {'epochs': 14, 'n_layers': 3, 'n_units_l0': 26, 'n_units_l1': 47, 'n_units_l2': 49, 'learning_rate_init': 0.033959570400472136, 'activation': 'relu', 'solver': 'sgd', 'alpha': 0.005372803824739985}. Best is trial 72 with value: 0.9120990869922615.\n",
            "[I 2024-07-28 14:30:56,168] Trial 76 finished with value: 0.9036450762760638 and parameters: {'epochs': 13, 'n_layers': 3, 'n_units_l0': 152, 'n_units_l1': 53, 'n_units_l2': 38, 'learning_rate_init': 0.05896046891767313, 'activation': 'relu', 'solver': 'sgd', 'alpha': 0.0006398152042876182}. Best is trial 72 with value: 0.9120990869922615.\n",
            "[I 2024-07-28 14:31:32,084] Trial 77 finished with value: 0.9107272275714028 and parameters: {'epochs': 10, 'n_layers': 3, 'n_units_l0': 144, 'n_units_l1': 118, 'n_units_l2': 81, 'learning_rate_init': 0.0797401899475602, 'activation': 'relu', 'solver': 'sgd', 'alpha': 0.0013220402817837585}. Best is trial 72 with value: 0.9120990869922615.\n",
            "[I 2024-07-28 14:32:07,650] Trial 78 finished with value: 0.9096441344187782 and parameters: {'epochs': 10, 'n_layers': 3, 'n_units_l0': 145, 'n_units_l1': 119, 'n_units_l2': 82, 'learning_rate_init': 0.08153143115809458, 'activation': 'relu', 'solver': 'sgd', 'alpha': 0.0011454005618744616}. Best is trial 72 with value: 0.9120990869922615.\n",
            "[I 2024-07-28 14:32:32,143] Trial 79 finished with value: 0.8886217202144674 and parameters: {'epochs': 10, 'n_layers': 2, 'n_units_l0': 124, 'n_units_l1': 115, 'learning_rate_init': 0.0004928854741939943, 'activation': 'relu', 'solver': 'adam', 'alpha': 0.0015693763583235461}. Best is trial 72 with value: 0.9120990869922615.\n",
            "[I 2024-07-28 14:33:07,940] Trial 80 finished with value: 0.763763713561891 and parameters: {'epochs': 11, 'n_layers': 3, 'n_units_l0': 110, 'n_units_l1': 129, 'n_units_l2': 64, 'learning_rate_init': 0.0999900517986076, 'activation': 'logistic', 'solver': 'sgd', 'alpha': 0.0009573025086074134}. Best is trial 72 with value: 0.9120990869922615.\n",
            "[I 2024-07-28 14:33:42,107] Trial 81 finished with value: 0.9120227823142053 and parameters: {'epochs': 12, 'n_layers': 3, 'n_units_l0': 160, 'n_units_l1': 142, 'n_units_l2': 106, 'learning_rate_init': 0.08138777438429483, 'activation': 'relu', 'solver': 'sgd', 'alpha': 0.0019106378528688944}. Best is trial 72 with value: 0.9120990869922615.\n",
            "[I 2024-07-28 14:34:14,155] Trial 82 finished with value: 0.909624245857187 and parameters: {'epochs': 11, 'n_layers': 3, 'n_units_l0': 164, 'n_units_l1': 150, 'n_units_l2': 107, 'learning_rate_init': 0.08052153513685963, 'activation': 'relu', 'solver': 'sgd', 'alpha': 0.002252725304385263}. Best is trial 72 with value: 0.9120990869922615.\n",
            "[I 2024-07-28 14:34:44,777] Trial 83 finished with value: 0.9051671078768038 and parameters: {'epochs': 12, 'n_layers': 3, 'n_units_l0': 143, 'n_units_l1': 135, 'n_units_l2': 122, 'learning_rate_init': 0.05100532695561662, 'activation': 'relu', 'solver': 'sgd', 'alpha': 0.0013367860531834006}. Best is trial 72 with value: 0.9120990869922615.\n",
            "[I 2024-07-28 14:35:16,405] Trial 84 finished with value: 0.9100362369592191 and parameters: {'epochs': 12, 'n_layers': 3, 'n_units_l0': 157, 'n_units_l1': 155, 'n_units_l2': 91, 'learning_rate_init': 0.041130497288102114, 'activation': 'relu', 'solver': 'sgd', 'alpha': 0.0017730944476815288}. Best is trial 72 with value: 0.9120990869922615.\n",
            "[I 2024-07-28 14:35:42,056] Trial 85 finished with value: 0.9066812683009744 and parameters: {'epochs': 10, 'n_layers': 3, 'n_units_l0': 133, 'n_units_l1': 169, 'n_units_l2': 101, 'learning_rate_init': 0.06106141568353139, 'activation': 'relu', 'solver': 'sgd', 'alpha': 0.0008176939499787146}. Best is trial 72 with value: 0.9120990869922615.\n",
            "[I 2024-07-28 14:36:03,446] Trial 86 finished with value: 0.8440479874824703 and parameters: {'epochs': 11, 'n_layers': 3, 'n_units_l0': 152, 'n_units_l1': 105, 'n_units_l2': 80, 'learning_rate_init': 0.0016558202090809768, 'activation': 'relu', 'solver': 'sgd', 'alpha': 0.002941892640018989}. Best is trial 72 with value: 0.9120990869922615.\n",
            "[I 2024-07-28 14:36:34,606] Trial 87 finished with value: 0.8970580087479463 and parameters: {'epochs': 12, 'n_layers': 3, 'n_units_l0': 147, 'n_units_l1': 142, 'n_units_l2': 114, 'learning_rate_init': 0.009003420822078887, 'activation': 'relu', 'solver': 'sgd', 'alpha': 0.0010827343491309194}. Best is trial 72 with value: 0.9120990869922615.\n",
            "[I 2024-07-28 14:37:35,850] Trial 88 finished with value: 0.828039085494692 and parameters: {'epochs': 11, 'n_layers': 3, 'n_units_l0': 159, 'n_units_l1': 124, 'n_units_l2': 78, 'learning_rate_init': 0.003285342422437765, 'activation': 'tanh', 'solver': 'sgd', 'alpha': 0.0005931174348531355}. Best is trial 72 with value: 0.9120990869922615.\n",
            "[I 2024-07-28 14:38:27,485] Trial 89 finished with value: 0.8898632117689688 and parameters: {'epochs': 25, 'n_layers': 3, 'n_units_l0': 101, 'n_units_l1': 91, 'n_units_l2': 131, 'learning_rate_init': 0.000198824776130359, 'activation': 'relu', 'solver': 'adam', 'alpha': 0.002261308852825574}. Best is trial 72 with value: 0.9120990869922615.\n",
            "[I 2024-07-28 14:38:52,356] Trial 90 finished with value: 0.9066619213341014 and parameters: {'epochs': 23, 'n_layers': 2, 'n_units_l0': 119, 'n_units_l1': 78, 'learning_rate_init': 0.029220886553702655, 'activation': 'relu', 'solver': 'sgd', 'alpha': 0.006464022847021396}. Best is trial 72 with value: 0.9120990869922615.\n",
            "[I 2024-07-28 14:39:13,066] Trial 91 finished with value: 0.9101512355710215 and parameters: {'epochs': 13, 'n_layers': 3, 'n_units_l0': 171, 'n_units_l1': 42, 'n_units_l2': 90, 'learning_rate_init': 0.07048754085617259, 'activation': 'relu', 'solver': 'sgd', 'alpha': 0.001408764067934724}. Best is trial 72 with value: 0.9120990869922615.\n",
            "[I 2024-07-28 14:39:39,534] Trial 92 finished with value: 0.9110194299572371 and parameters: {'epochs': 12, 'n_layers': 3, 'n_units_l0': 177, 'n_units_l1': 70, 'n_units_l2': 140, 'learning_rate_init': 0.08100405382180782, 'activation': 'relu', 'solver': 'sgd', 'alpha': 0.0037026414518665928}. Best is trial 72 with value: 0.9120990869922615.\n",
            "[I 2024-07-28 14:40:04,185] Trial 93 finished with value: 0.9118778575853701 and parameters: {'epochs': 12, 'n_layers': 3, 'n_units_l0': 182, 'n_units_l1': 70, 'n_units_l2': 125, 'learning_rate_init': 0.08452767581224123, 'activation': 'relu', 'solver': 'sgd', 'alpha': 0.0035137935636910616}. Best is trial 72 with value: 0.9120990869922615.\n",
            "[I 2024-07-28 14:40:30,077] Trial 94 finished with value: 0.9130751369577201 and parameters: {'epochs': 12, 'n_layers': 3, 'n_units_l0': 192, 'n_units_l1': 71, 'n_units_l2': 123, 'learning_rate_init': 0.08177715807672514, 'activation': 'relu', 'solver': 'sgd', 'alpha': 0.0034841450783612967}. Best is trial 94 with value: 0.9130751369577201.\n",
            "[I 2024-07-28 14:40:57,663] Trial 95 finished with value: 0.9102153363147641 and parameters: {'epochs': 12, 'n_layers': 3, 'n_units_l0': 183, 'n_units_l1': 85, 'n_units_l2': 126, 'learning_rate_init': 0.08116551083417534, 'activation': 'relu', 'solver': 'sgd', 'alpha': 0.003492284618776424}. Best is trial 94 with value: 0.9130751369577201.\n",
            "[I 2024-07-28 14:41:22,754] Trial 96 finished with value: 0.9111805363327041 and parameters: {'epochs': 11, 'n_layers': 3, 'n_units_l0': 193, 'n_units_l1': 69, 'n_units_l2': 139, 'learning_rate_init': 0.060757181881821505, 'activation': 'relu', 'solver': 'sgd', 'alpha': 0.009934181001839414}. Best is trial 94 with value: 0.9130751369577201.\n",
            "[I 2024-07-28 14:41:50,435] Trial 97 finished with value: 0.9052388932478237 and parameters: {'epochs': 10, 'n_layers': 3, 'n_units_l0': 184, 'n_units_l1': 73, 'n_units_l2': 137, 'learning_rate_init': 0.050496994571946875, 'activation': 'relu', 'solver': 'sgd', 'alpha': 0.007024921035734342}. Best is trial 94 with value: 0.9130751369577201.\n",
            "[I 2024-07-28 14:42:21,645] Trial 98 finished with value: 0.9033816325697589 and parameters: {'epochs': 11, 'n_layers': 3, 'n_units_l0': 194, 'n_units_l1': 70, 'n_units_l2': 150, 'learning_rate_init': 0.0625218467982621, 'activation': 'relu', 'solver': 'sgd', 'alpha': 0.009520277239316779}. Best is trial 94 with value: 0.9130751369577201.\n",
            "[I 2024-07-28 14:42:49,381] Trial 99 finished with value: 0.909747199893626 and parameters: {'epochs': 11, 'n_layers': 3, 'n_units_l0': 192, 'n_units_l1': 62, 'n_units_l2': 143, 'learning_rate_init': 0.07605229272939437, 'activation': 'relu', 'solver': 'sgd', 'alpha': 0.004245721662400887}. Best is trial 94 with value: 0.9130751369577201.\n"
          ]
        }
      ],
      "source": [
        "# Create study and optimize\n",
        "study = optuna.create_study(direction='maximize')\n",
        "study.optimize(objective, n_trials=100)"
      ]
    },
    {
      "cell_type": "code",
      "execution_count": 11,
      "metadata": {
        "colab": {
          "base_uri": "https://localhost:8080/"
        },
        "id": "YszNCwbvJ2lO",
        "outputId": "911af68b-1b4a-4aac-b37d-899b90bd32d4"
      },
      "outputs": [
        {
          "name": "stdout",
          "output_type": "stream",
          "text": [
            "Best Hyperparameters: {'epochs': 12, 'n_layers': 3, 'n_units_l0': 192, 'n_units_l1': 71, 'n_units_l2': 123, 'learning_rate_init': 0.08177715807672514, 'activation': 'relu', 'solver': 'sgd', 'alpha': 0.0034841450783612967}\n",
            "Best value: 0.9130751369577201\n"
          ]
        }
      ],
      "source": [
        "# Best hyperparameters\n",
        "print(f'Best Hyperparameters: {study.best_params}')\n",
        "print(f'Best value: {study.best_value}')"
      ]
    },
    {
      "cell_type": "code",
      "execution_count": 38,
      "metadata": {
        "id": "qkvLnRzYJ8Jh"
      },
      "outputs": [],
      "source": [
        "best_mlp = MLPClassifier(\n",
        "    hidden_layer_sizes=tuple(best_params[f'n_units_l{i}'] for i in range(best_params['n_layers'])),\n",
        "    learning_rate_init=best_params['learning_rate_init'],\n",
        "    activation=best_params['activation'],\n",
        "    solver=best_params['solver'],\n",
        "    alpha=best_params['alpha'],\n",
        "    max_iter=200,\n",
        "    random_state=42\n",
        ")"
      ]
    },
    {
      "cell_type": "code",
      "execution_count": 39,
      "metadata": {
        "colab": {
          "base_uri": "https://localhost:8080/",
          "height": 92
        },
        "id": "ALx_Bd6aJ9EY",
        "outputId": "71f6cad2-126a-49ee-d9af-a2c085650fe9"
      },
      "outputs": [
        {
          "data": {
            "text/html": [
              "<style>#sk-container-id-1 {color: black;background-color: white;}#sk-container-id-1 pre{padding: 0;}#sk-container-id-1 div.sk-toggleable {background-color: white;}#sk-container-id-1 label.sk-toggleable__label {cursor: pointer;display: block;width: 100%;margin-bottom: 0;padding: 0.3em;box-sizing: border-box;text-align: center;}#sk-container-id-1 label.sk-toggleable__label-arrow:before {content: \"▸\";float: left;margin-right: 0.25em;color: #696969;}#sk-container-id-1 label.sk-toggleable__label-arrow:hover:before {color: black;}#sk-container-id-1 div.sk-estimator:hover label.sk-toggleable__label-arrow:before {color: black;}#sk-container-id-1 div.sk-toggleable__content {max-height: 0;max-width: 0;overflow: hidden;text-align: left;background-color: #f0f8ff;}#sk-container-id-1 div.sk-toggleable__content pre {margin: 0.2em;color: black;border-radius: 0.25em;background-color: #f0f8ff;}#sk-container-id-1 input.sk-toggleable__control:checked~div.sk-toggleable__content {max-height: 200px;max-width: 100%;overflow: auto;}#sk-container-id-1 input.sk-toggleable__control:checked~label.sk-toggleable__label-arrow:before {content: \"▾\";}#sk-container-id-1 div.sk-estimator input.sk-toggleable__control:checked~label.sk-toggleable__label {background-color: #d4ebff;}#sk-container-id-1 div.sk-label input.sk-toggleable__control:checked~label.sk-toggleable__label {background-color: #d4ebff;}#sk-container-id-1 input.sk-hidden--visually {border: 0;clip: rect(1px 1px 1px 1px);clip: rect(1px, 1px, 1px, 1px);height: 1px;margin: -1px;overflow: hidden;padding: 0;position: absolute;width: 1px;}#sk-container-id-1 div.sk-estimator {font-family: monospace;background-color: #f0f8ff;border: 1px dotted black;border-radius: 0.25em;box-sizing: border-box;margin-bottom: 0.5em;}#sk-container-id-1 div.sk-estimator:hover {background-color: #d4ebff;}#sk-container-id-1 div.sk-parallel-item::after {content: \"\";width: 100%;border-bottom: 1px solid gray;flex-grow: 1;}#sk-container-id-1 div.sk-label:hover label.sk-toggleable__label {background-color: #d4ebff;}#sk-container-id-1 div.sk-serial::before {content: \"\";position: absolute;border-left: 1px solid gray;box-sizing: border-box;top: 0;bottom: 0;left: 50%;z-index: 0;}#sk-container-id-1 div.sk-serial {display: flex;flex-direction: column;align-items: center;background-color: white;padding-right: 0.2em;padding-left: 0.2em;position: relative;}#sk-container-id-1 div.sk-item {position: relative;z-index: 1;}#sk-container-id-1 div.sk-parallel {display: flex;align-items: stretch;justify-content: center;background-color: white;position: relative;}#sk-container-id-1 div.sk-item::before, #sk-container-id-1 div.sk-parallel-item::before {content: \"\";position: absolute;border-left: 1px solid gray;box-sizing: border-box;top: 0;bottom: 0;left: 50%;z-index: -1;}#sk-container-id-1 div.sk-parallel-item {display: flex;flex-direction: column;z-index: 1;position: relative;background-color: white;}#sk-container-id-1 div.sk-parallel-item:first-child::after {align-self: flex-end;width: 50%;}#sk-container-id-1 div.sk-parallel-item:last-child::after {align-self: flex-start;width: 50%;}#sk-container-id-1 div.sk-parallel-item:only-child::after {width: 0;}#sk-container-id-1 div.sk-dashed-wrapped {border: 1px dashed gray;margin: 0 0.4em 0.5em 0.4em;box-sizing: border-box;padding-bottom: 0.4em;background-color: white;}#sk-container-id-1 div.sk-label label {font-family: monospace;font-weight: bold;display: inline-block;line-height: 1.2em;}#sk-container-id-1 div.sk-label-container {text-align: center;}#sk-container-id-1 div.sk-container {/* jupyter's `normalize.less` sets `[hidden] { display: none; }` but bootstrap.min.css set `[hidden] { display: none !important; }` so we also need the `!important` here to be able to override the default hidden behavior on the sphinx rendered scikit-learn.org. See: https://github.com/scikit-learn/scikit-learn/issues/21755 */display: inline-block !important;position: relative;}#sk-container-id-1 div.sk-text-repr-fallback {display: none;}</style><div id=\"sk-container-id-1\" class=\"sk-top-container\"><div class=\"sk-text-repr-fallback\"><pre>MLPClassifier(alpha=0.0017360992714110025, hidden_layer_sizes=(67, 20),\n",
              "              learning_rate_init=0.010047325174366043, random_state=42)</pre><b>In a Jupyter environment, please rerun this cell to show the HTML representation or trust the notebook. <br />On GitHub, the HTML representation is unable to render, please try loading this page with nbviewer.org.</b></div><div class=\"sk-container\" hidden><div class=\"sk-item\"><div class=\"sk-estimator sk-toggleable\"><input class=\"sk-toggleable__control sk-hidden--visually\" id=\"sk-estimator-id-1\" type=\"checkbox\" checked><label for=\"sk-estimator-id-1\" class=\"sk-toggleable__label sk-toggleable__label-arrow\">MLPClassifier</label><div class=\"sk-toggleable__content\"><pre>MLPClassifier(alpha=0.0017360992714110025, hidden_layer_sizes=(67, 20),\n",
              "              learning_rate_init=0.010047325174366043, random_state=42)</pre></div></div></div></div></div>"
            ],
            "text/plain": [
              "MLPClassifier(alpha=0.0017360992714110025, hidden_layer_sizes=(67, 20),\n",
              "              learning_rate_init=0.010047325174366043, random_state=42)"
            ]
          },
          "execution_count": 39,
          "metadata": {},
          "output_type": "execute_result"
        }
      ],
      "source": [
        "best_mlp.fit(X_train, y_train)"
      ]
    },
    {
      "cell_type": "code",
      "execution_count": 45,
      "metadata": {
        "colab": {
          "base_uri": "https://localhost:8080/"
        },
        "id": "_Gl1tBFkJ_lI",
        "outputId": "65401d0f-04bc-4497-ef19-0770baf281c1"
      },
      "outputs": [
        {
          "name": "stdout",
          "output_type": "stream",
          "text": [
            "Validation Accuracy: 95.881\n"
          ]
        }
      ],
      "source": [
        "val_pred = best_mlp.predict(X_val)\n",
        "val_accuracy = accuracy_score(y_val, val_pred)\n",
        "print(f'Validation Accuracy: {val_accuracy*100:.3f}')"
      ]
    },
    {
      "cell_type": "code",
      "execution_count": 46,
      "metadata": {
        "colab": {
          "base_uri": "https://localhost:8080/"
        },
        "id": "nhTfXR9aKB3V",
        "outputId": "13475d6b-6690-4ca3-ef03-230327fadc65"
      },
      "outputs": [
        {
          "name": "stdout",
          "output_type": "stream",
          "text": [
            "Test Accuracy: 96.139\n"
          ]
        }
      ],
      "source": [
        "test_pred = best_mlp.predict(X_test)\n",
        "test_accuracy = accuracy_score(y_test, test_pred)\n",
        "print(f'Test Accuracy: {test_accuracy*100:.3f}')"
      ]
    }
  ],
  "metadata": {
    "colab": {
      "provenance": []
    },
    "kernelspec": {
      "display_name": "Python 3",
      "name": "python3"
    },
    "language_info": {
      "codemirror_mode": {
        "name": "ipython",
        "version": 3
      },
      "file_extension": ".py",
      "mimetype": "text/x-python",
      "name": "python",
      "nbconvert_exporter": "python",
      "pygments_lexer": "ipython3",
      "version": "3.10.12"
    }
  },
  "nbformat": 4,
  "nbformat_minor": 0
}
